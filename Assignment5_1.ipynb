{
 "cells": [
  {
   "cell_type": "markdown",
   "metadata": {
    "id": "CcUT6Fon_qRE"
   },
   "source": [
    "### Required Assignment 5.1: Will the Customer Accept the Coupon?\n",
    "\n",
    "**Context**\n",
    "\n",
    "Imagine driving through town and a coupon is delivered to your cell phone for a restaurant near where you are driving. Would you accept that coupon and take a short detour to the restaurant? Would you accept the coupon but use it on a subsequent trip? Would you ignore the coupon entirely? What if the coupon was for a bar instead of a restaurant? What about a coffee house? Would you accept a bar coupon with a minor passenger in the car? What about if it was just you and your partner in the car? Would weather impact the rate of acceptance? What about the time of day?\n",
    "\n",
    "Obviously, proximity to the business is a factor on whether the coupon is delivered to the driver or not, but what are the factors that determine whether a driver accepts the coupon once it is delivered to them? How would you determine whether a driver is likely to accept a coupon?\n",
    "\n",
    "**Overview**\n",
    "\n",
    "The goal of this project is to use what you know about visualizations and probability distributions to distinguish between customers who accepted a driving coupon versus those that did not.\n",
    "\n",
    "**Data**\n",
    "\n",
    "This data comes to us from the UCI Machine Learning repository and was collected via a survey on Amazon Mechanical Turk. The survey describes different driving scenarios including the destination, current time, weather, passenger, etc., and then ask the person whether he will accept the coupon if he is the driver. Answers that the user will drive there ‘right away’ or ‘later before the coupon expires’ are labeled as ‘Y = 1’ and answers ‘no, I do not want the coupon’ are labeled as ‘Y = 0’.  There are five different types of coupons -- less expensive restaurants (under \\$20), coffee houses, carry out & take away, bar, and more expensive restaurants (\\$20 - $50)."
   ]
  },
  {
   "cell_type": "markdown",
   "metadata": {
    "id": "1wORvMBJ_qRF"
   },
   "source": [
    "**Deliverables**\n",
    "\n",
    "Your final product should be a brief report that highlights the differences between customers who did and did not accept the coupons.  To explore the data you will utilize your knowledge of plotting, statistical summaries, and visualization using Python. You will publish your findings in a public facing github repository as your first portfolio piece.\n",
    "\n",
    "\n",
    "\n"
   ]
  },
  {
   "cell_type": "markdown",
   "metadata": {
    "id": "pG6_Ym6q_qRG"
   },
   "source": [
    "### Data Description\n",
    "Keep in mind that these values mentioned below are average values.\n",
    "\n",
    "The attributes of this data set include:\n",
    "1. User attributes\n",
    "    -  Gender: male, female\n",
    "    -  Age: below 21, 21 to 25, 26 to 30, etc.\n",
    "    -  Marital Status: single, married partner, unmarried partner, or widowed\n",
    "    -  Number of children: 0, 1, or more than 1\n",
    "    -  Education: high school, bachelors degree, associates degree, or graduate degree\n",
    "    -  Occupation: architecture & engineering, business & financial, etc.\n",
    "    -  Annual income: less than \\\\$12500, \\\\$12500 - \\\\$24999, \\\\$25000 - \\\\$37499, etc.\n",
    "    -  Number of times that he/she goes to a bar: 0, less than 1, 1 to 3, 4 to 8 or greater than 8\n",
    "    -  Number of times that he/she buys takeaway food: 0, less than 1, 1 to 3, 4 to 8 or greater\n",
    "    than 8\n",
    "    -  Number of times that he/she goes to a coffee house: 0, less than 1, 1 to 3, 4 to 8 or\n",
    "    greater than 8\n",
    "    -  Number of times that he/she eats at a restaurant with average expense less than \\\\$20 per\n",
    "    person: 0, less than 1, 1 to 3, 4 to 8 or greater than 8\n",
    "    -  Number of times that he/she goes to a bar: 0, less than 1, 1 to 3, 4 to 8 or greater than 8\n",
    "    \n",
    "\n",
    "2. Contextual attributes\n",
    "    - Driving destination: home, work, or no urgent destination\n",
    "    - Location of user, coupon and destination: we provide a map to show the geographical\n",
    "    location of the user, destination, and the venue, and we mark the distance between each\n",
    "    two places with time of driving. The user can see whether the venue is in the same\n",
    "    direction as the destination.\n",
    "    - Weather: sunny, rainy, or snowy\n",
    "    - Temperature: 30F, 55F, or 80F\n",
    "    - Time: 10AM, 2PM, or 6PM\n",
    "    - Passenger: alone, partner, kid(s), or friend(s)\n",
    "\n",
    "\n",
    "3. Coupon attributes\n",
    "    - time before it expires: 2 hours or one day"
   ]
  },
  {
   "cell_type": "code",
   "execution_count": 187,
   "metadata": {
    "id": "dzNoP3o__qRG"
   },
   "outputs": [],
   "source": [
    "import matplotlib.pyplot as plt\n",
    "import seaborn as sns\n",
    "import pandas as pd\n",
    "import numpy as np"
   ]
  },
  {
   "cell_type": "markdown",
   "metadata": {
    "id": "Ct8pI1uE_qRG"
   },
   "source": [
    "### Problems\n",
    "\n",
    "Use the prompts below to get started with your data analysis.  \n",
    "\n",
    "1. Read in the `coupons.csv` file.\n",
    "\n",
    "\n"
   ]
  },
  {
   "cell_type": "code",
   "execution_count": 188,
   "metadata": {
    "id": "X0vbffYg_qRH"
   },
   "outputs": [],
   "source": [
    "data = pd.read_csv('data/coupons.csv')"
   ]
  },
  {
   "cell_type": "code",
   "execution_count": 189,
   "metadata": {
    "id": "TXofQ_DF_qRH",
    "outputId": "2fc96a2c-1112-4b54-f24f-dbb9bc88abfb"
   },
   "outputs": [
    {
     "data": {
      "text/html": [
       "<div>\n",
       "<style scoped>\n",
       "    .dataframe tbody tr th:only-of-type {\n",
       "        vertical-align: middle;\n",
       "    }\n",
       "\n",
       "    .dataframe tbody tr th {\n",
       "        vertical-align: top;\n",
       "    }\n",
       "\n",
       "    .dataframe thead th {\n",
       "        text-align: right;\n",
       "    }\n",
       "</style>\n",
       "<table border=\"1\" class=\"dataframe\">\n",
       "  <thead>\n",
       "    <tr style=\"text-align: right;\">\n",
       "      <th></th>\n",
       "      <th>destination</th>\n",
       "      <th>passanger</th>\n",
       "      <th>weather</th>\n",
       "      <th>temperature</th>\n",
       "      <th>time</th>\n",
       "      <th>coupon</th>\n",
       "      <th>expiration</th>\n",
       "      <th>gender</th>\n",
       "      <th>age</th>\n",
       "      <th>maritalStatus</th>\n",
       "      <th>has_children</th>\n",
       "      <th>education</th>\n",
       "      <th>occupation</th>\n",
       "      <th>income</th>\n",
       "      <th>car</th>\n",
       "      <th>Bar</th>\n",
       "      <th>CoffeeHouse</th>\n",
       "      <th>CarryAway</th>\n",
       "      <th>RestaurantLessThan20</th>\n",
       "      <th>Restaurant20To50</th>\n",
       "      <th>toCoupon_GEQ5min</th>\n",
       "      <th>toCoupon_GEQ15min</th>\n",
       "      <th>toCoupon_GEQ25min</th>\n",
       "      <th>direction_same</th>\n",
       "      <th>direction_opp</th>\n",
       "      <th>Y</th>\n",
       "    </tr>\n",
       "  </thead>\n",
       "  <tbody>\n",
       "    <tr>\n",
       "      <th>0</th>\n",
       "      <td>No Urgent Place</td>\n",
       "      <td>Alone</td>\n",
       "      <td>Sunny</td>\n",
       "      <td>55</td>\n",
       "      <td>2PM</td>\n",
       "      <td>Restaurant(&lt;20)</td>\n",
       "      <td>1d</td>\n",
       "      <td>Female</td>\n",
       "      <td>21</td>\n",
       "      <td>Unmarried partner</td>\n",
       "      <td>1</td>\n",
       "      <td>Some college - no degree</td>\n",
       "      <td>Unemployed</td>\n",
       "      <td>$37500 - $49999</td>\n",
       "      <td>NaN</td>\n",
       "      <td>never</td>\n",
       "      <td>never</td>\n",
       "      <td>NaN</td>\n",
       "      <td>4~8</td>\n",
       "      <td>1~3</td>\n",
       "      <td>1</td>\n",
       "      <td>0</td>\n",
       "      <td>0</td>\n",
       "      <td>0</td>\n",
       "      <td>1</td>\n",
       "      <td>1</td>\n",
       "    </tr>\n",
       "    <tr>\n",
       "      <th>1</th>\n",
       "      <td>No Urgent Place</td>\n",
       "      <td>Friend(s)</td>\n",
       "      <td>Sunny</td>\n",
       "      <td>80</td>\n",
       "      <td>10AM</td>\n",
       "      <td>Coffee House</td>\n",
       "      <td>2h</td>\n",
       "      <td>Female</td>\n",
       "      <td>21</td>\n",
       "      <td>Unmarried partner</td>\n",
       "      <td>1</td>\n",
       "      <td>Some college - no degree</td>\n",
       "      <td>Unemployed</td>\n",
       "      <td>$37500 - $49999</td>\n",
       "      <td>NaN</td>\n",
       "      <td>never</td>\n",
       "      <td>never</td>\n",
       "      <td>NaN</td>\n",
       "      <td>4~8</td>\n",
       "      <td>1~3</td>\n",
       "      <td>1</td>\n",
       "      <td>0</td>\n",
       "      <td>0</td>\n",
       "      <td>0</td>\n",
       "      <td>1</td>\n",
       "      <td>0</td>\n",
       "    </tr>\n",
       "    <tr>\n",
       "      <th>2</th>\n",
       "      <td>No Urgent Place</td>\n",
       "      <td>Friend(s)</td>\n",
       "      <td>Sunny</td>\n",
       "      <td>80</td>\n",
       "      <td>10AM</td>\n",
       "      <td>Carry out &amp; Take away</td>\n",
       "      <td>2h</td>\n",
       "      <td>Female</td>\n",
       "      <td>21</td>\n",
       "      <td>Unmarried partner</td>\n",
       "      <td>1</td>\n",
       "      <td>Some college - no degree</td>\n",
       "      <td>Unemployed</td>\n",
       "      <td>$37500 - $49999</td>\n",
       "      <td>NaN</td>\n",
       "      <td>never</td>\n",
       "      <td>never</td>\n",
       "      <td>NaN</td>\n",
       "      <td>4~8</td>\n",
       "      <td>1~3</td>\n",
       "      <td>1</td>\n",
       "      <td>1</td>\n",
       "      <td>0</td>\n",
       "      <td>0</td>\n",
       "      <td>1</td>\n",
       "      <td>1</td>\n",
       "    </tr>\n",
       "    <tr>\n",
       "      <th>3</th>\n",
       "      <td>No Urgent Place</td>\n",
       "      <td>Friend(s)</td>\n",
       "      <td>Sunny</td>\n",
       "      <td>80</td>\n",
       "      <td>2PM</td>\n",
       "      <td>Coffee House</td>\n",
       "      <td>2h</td>\n",
       "      <td>Female</td>\n",
       "      <td>21</td>\n",
       "      <td>Unmarried partner</td>\n",
       "      <td>1</td>\n",
       "      <td>Some college - no degree</td>\n",
       "      <td>Unemployed</td>\n",
       "      <td>$37500 - $49999</td>\n",
       "      <td>NaN</td>\n",
       "      <td>never</td>\n",
       "      <td>never</td>\n",
       "      <td>NaN</td>\n",
       "      <td>4~8</td>\n",
       "      <td>1~3</td>\n",
       "      <td>1</td>\n",
       "      <td>1</td>\n",
       "      <td>0</td>\n",
       "      <td>0</td>\n",
       "      <td>1</td>\n",
       "      <td>0</td>\n",
       "    </tr>\n",
       "    <tr>\n",
       "      <th>4</th>\n",
       "      <td>No Urgent Place</td>\n",
       "      <td>Friend(s)</td>\n",
       "      <td>Sunny</td>\n",
       "      <td>80</td>\n",
       "      <td>2PM</td>\n",
       "      <td>Coffee House</td>\n",
       "      <td>1d</td>\n",
       "      <td>Female</td>\n",
       "      <td>21</td>\n",
       "      <td>Unmarried partner</td>\n",
       "      <td>1</td>\n",
       "      <td>Some college - no degree</td>\n",
       "      <td>Unemployed</td>\n",
       "      <td>$37500 - $49999</td>\n",
       "      <td>NaN</td>\n",
       "      <td>never</td>\n",
       "      <td>never</td>\n",
       "      <td>NaN</td>\n",
       "      <td>4~8</td>\n",
       "      <td>1~3</td>\n",
       "      <td>1</td>\n",
       "      <td>1</td>\n",
       "      <td>0</td>\n",
       "      <td>0</td>\n",
       "      <td>1</td>\n",
       "      <td>0</td>\n",
       "    </tr>\n",
       "  </tbody>\n",
       "</table>\n",
       "</div>"
      ],
      "text/plain": [
       "       destination  passanger weather  temperature  time  \\\n",
       "0  No Urgent Place      Alone   Sunny           55   2PM   \n",
       "1  No Urgent Place  Friend(s)   Sunny           80  10AM   \n",
       "2  No Urgent Place  Friend(s)   Sunny           80  10AM   \n",
       "3  No Urgent Place  Friend(s)   Sunny           80   2PM   \n",
       "4  No Urgent Place  Friend(s)   Sunny           80   2PM   \n",
       "\n",
       "                  coupon expiration  gender age      maritalStatus  \\\n",
       "0        Restaurant(<20)         1d  Female  21  Unmarried partner   \n",
       "1           Coffee House         2h  Female  21  Unmarried partner   \n",
       "2  Carry out & Take away         2h  Female  21  Unmarried partner   \n",
       "3           Coffee House         2h  Female  21  Unmarried partner   \n",
       "4           Coffee House         1d  Female  21  Unmarried partner   \n",
       "\n",
       "   has_children                 education  occupation           income  car  \\\n",
       "0             1  Some college - no degree  Unemployed  $37500 - $49999  NaN   \n",
       "1             1  Some college - no degree  Unemployed  $37500 - $49999  NaN   \n",
       "2             1  Some college - no degree  Unemployed  $37500 - $49999  NaN   \n",
       "3             1  Some college - no degree  Unemployed  $37500 - $49999  NaN   \n",
       "4             1  Some college - no degree  Unemployed  $37500 - $49999  NaN   \n",
       "\n",
       "     Bar CoffeeHouse CarryAway RestaurantLessThan20 Restaurant20To50  \\\n",
       "0  never       never       NaN                  4~8              1~3   \n",
       "1  never       never       NaN                  4~8              1~3   \n",
       "2  never       never       NaN                  4~8              1~3   \n",
       "3  never       never       NaN                  4~8              1~3   \n",
       "4  never       never       NaN                  4~8              1~3   \n",
       "\n",
       "   toCoupon_GEQ5min  toCoupon_GEQ15min  toCoupon_GEQ25min  direction_same  \\\n",
       "0                 1                  0                  0               0   \n",
       "1                 1                  0                  0               0   \n",
       "2                 1                  1                  0               0   \n",
       "3                 1                  1                  0               0   \n",
       "4                 1                  1                  0               0   \n",
       "\n",
       "   direction_opp  Y  \n",
       "0              1  1  \n",
       "1              1  0  \n",
       "2              1  1  \n",
       "3              1  0  \n",
       "4              1  0  "
      ]
     },
     "execution_count": 189,
     "metadata": {},
     "output_type": "execute_result"
    }
   ],
   "source": [
    "#setting the option to see all columns of the dataframe\n",
    "pd.set_option('display.max_columns', None)\n",
    "data.head()"
   ]
  },
  {
   "cell_type": "markdown",
   "metadata": {
    "id": "GcDs78ZH_qRH"
   },
   "source": [
    "2. Investigate the dataset for missing or problematic data."
   ]
  },
  {
   "cell_type": "code",
   "execution_count": 190,
   "metadata": {},
   "outputs": [
    {
     "name": "stdout",
     "output_type": "stream",
     "text": [
      "<class 'pandas.core.frame.DataFrame'>\n",
      "RangeIndex: 12684 entries, 0 to 12683\n",
      "Data columns (total 26 columns):\n",
      " #   Column                Non-Null Count  Dtype \n",
      "---  ------                --------------  ----- \n",
      " 0   destination           12684 non-null  object\n",
      " 1   passanger             12684 non-null  object\n",
      " 2   weather               12684 non-null  object\n",
      " 3   temperature           12684 non-null  int64 \n",
      " 4   time                  12684 non-null  object\n",
      " 5   coupon                12684 non-null  object\n",
      " 6   expiration            12684 non-null  object\n",
      " 7   gender                12684 non-null  object\n",
      " 8   age                   12684 non-null  object\n",
      " 9   maritalStatus         12684 non-null  object\n",
      " 10  has_children          12684 non-null  int64 \n",
      " 11  education             12684 non-null  object\n",
      " 12  occupation            12684 non-null  object\n",
      " 13  income                12684 non-null  object\n",
      " 14  car                   108 non-null    object\n",
      " 15  Bar                   12577 non-null  object\n",
      " 16  CoffeeHouse           12467 non-null  object\n",
      " 17  CarryAway             12533 non-null  object\n",
      " 18  RestaurantLessThan20  12554 non-null  object\n",
      " 19  Restaurant20To50      12495 non-null  object\n",
      " 20  toCoupon_GEQ5min      12684 non-null  int64 \n",
      " 21  toCoupon_GEQ15min     12684 non-null  int64 \n",
      " 22  toCoupon_GEQ25min     12684 non-null  int64 \n",
      " 23  direction_same        12684 non-null  int64 \n",
      " 24  direction_opp         12684 non-null  int64 \n",
      " 25  Y                     12684 non-null  int64 \n",
      "dtypes: int64(8), object(18)\n",
      "memory usage: 2.5+ MB\n"
     ]
    }
   ],
   "source": [
    "#Examing the data using info(). Understanding data types, columns, number of non-null values per column, missing values.\n",
    "data.info()"
   ]
  },
  {
   "cell_type": "code",
   "execution_count": 192,
   "metadata": {
    "id": "6CwL6oWj_qRH"
   },
   "outputs": [
    {
     "data": {
      "text/plain": [
       "Text(0, 0.5, 'Missing Values Count')"
      ]
     },
     "execution_count": 192,
     "metadata": {},
     "output_type": "execute_result"
    },
    {
     "data": {
      "image/png": "[encoded data removed]",
      "text/plain": [
       "<Figure size 640x480 with 1 Axes>"
      ]
     },
     "metadata": {},
     "output_type": "display_data"
    }
   ],
   "source": [
    "#Visualizing the amount of missing values for each column in the data\n",
    "data.isnull().sum().sort_values().plot(kind = 'bar')\n",
    "plt.title('Number of missing values per column')  # title\n",
    "plt.xlabel('Columns', fontsize=12)  # x-label\n",
    "plt.ylabel('Missing Values Count', fontsize=12)  # y-label"
   ]
  },
  {
   "cell_type": "markdown",
   "metadata": {
    "id": "bSdVSpYB_qRH"
   },
   "source": [
    "3. Decide what to do about your missing data -- drop, replace, other..."
   ]
  },
  {
   "cell_type": "code",
   "execution_count": 194,
   "metadata": {
    "id": "tyvoAC5F_qRI"
   },
   "outputs": [
    {
     "name": "stdout",
     "output_type": "stream",
     "text": [
      "<class 'pandas.core.frame.DataFrame'>\n",
      "RangeIndex: 12684 entries, 0 to 12683\n",
      "Data columns (total 25 columns):\n",
      " #   Column                Non-Null Count  Dtype \n",
      "---  ------                --------------  ----- \n",
      " 0   destination           12684 non-null  object\n",
      " 1   passanger             12684 non-null  object\n",
      " 2   weather               12684 non-null  object\n",
      " 3   temperature           12684 non-null  int64 \n",
      " 4   time                  12684 non-null  object\n",
      " 5   coupon                12684 non-null  object\n",
      " 6   expiration            12684 non-null  object\n",
      " 7   gender                12684 non-null  object\n",
      " 8   age                   12684 non-null  object\n",
      " 9   maritalStatus         12684 non-null  object\n",
      " 10  has_children          12684 non-null  int64 \n",
      " 11  education             12684 non-null  object\n",
      " 12  occupation            12684 non-null  object\n",
      " 13  income                12684 non-null  object\n",
      " 14  Bar                   12684 non-null  object\n",
      " 15  CoffeeHouse           12684 non-null  object\n",
      " 16  CarryAway             12684 non-null  object\n",
      " 17  RestaurantLessThan20  12684 non-null  object\n",
      " 18  Restaurant20To50      12684 non-null  object\n",
      " 19  toCoupon_GEQ5min      12684 non-null  int64 \n",
      " 20  toCoupon_GEQ15min     12684 non-null  int64 \n",
      " 21  toCoupon_GEQ25min     12684 non-null  int64 \n",
      " 22  direction_same        12684 non-null  int64 \n",
      " 23  direction_opp         12684 non-null  int64 \n",
      " 24  Y                     12684 non-null  int64 \n",
      "dtypes: int64(8), object(17)\n",
      "memory usage: 2.4+ MB\n"
     ]
    },
    {
     "name": "stderr",
     "output_type": "stream",
     "text": [
      "C:\\Users\\sattili\\AppData\\Local\\Temp\\ipykernel_21820\\1491174673.py:7: FutureWarning: A value is trying to be set on a copy of a DataFrame or Series through chained assignment using an inplace method.\n",
      "The behavior will change in pandas 3.0. This inplace method will never work because the intermediate object on which we are setting values always behaves as a copy.\n",
      "\n",
      "For example, when doing 'df[col].method(value, inplace=True)', try using 'df.method({col: value}, inplace=True)' or df[col] = df[col].method(value) instead, to perform the operation inplace on the original object.\n",
      "\n",
      "\n",
      "  df[col].fillna(df[col].mode()[0], inplace=True)\n"
     ]
    }
   ],
   "source": [
    "#More than 99% of data is missing for 'car' column. Deleting the column.\n",
    "df = data.drop(columns=['car'])\n",
    "\n",
    "# <2% missing values for the columns - Bar, CoffeeHouse, CarryAway, RestaurantLessThan20, and Restaurant20To50. \n",
    "# Replacing these columns with most common values (ie: mode).\n",
    "for col in ['Bar', 'CoffeeHouse', 'CarryAway', 'RestaurantLessThan20', 'Restaurant20To50']:\n",
    "    df[col].fillna(df[col].mode()[0], inplace=True)\n",
    "\n",
    "#Re-examining to check missing values\n",
    "df.info()"
   ]
  },
  {
   "cell_type": "code",
   "execution_count": 195,
   "metadata": {},
   "outputs": [
    {
     "data": {
      "text/html": [
       "<div>\n",
       "<style scoped>\n",
       "    .dataframe tbody tr th:only-of-type {\n",
       "        vertical-align: middle;\n",
       "    }\n",
       "\n",
       "    .dataframe tbody tr th {\n",
       "        vertical-align: top;\n",
       "    }\n",
       "\n",
       "    .dataframe thead th {\n",
       "        text-align: right;\n",
       "    }\n",
       "</style>\n",
       "<table border=\"1\" class=\"dataframe\">\n",
       "  <thead>\n",
       "    <tr style=\"text-align: right;\">\n",
       "      <th></th>\n",
       "      <th>destination</th>\n",
       "      <th>passanger</th>\n",
       "      <th>weather</th>\n",
       "      <th>temperature</th>\n",
       "      <th>time</th>\n",
       "      <th>coupon</th>\n",
       "      <th>expiration</th>\n",
       "      <th>gender</th>\n",
       "      <th>age</th>\n",
       "      <th>maritalStatus</th>\n",
       "      <th>has_children</th>\n",
       "      <th>education</th>\n",
       "      <th>occupation</th>\n",
       "      <th>income</th>\n",
       "      <th>Bar</th>\n",
       "      <th>CoffeeHouse</th>\n",
       "      <th>CarryAway</th>\n",
       "      <th>RestaurantLessThan20</th>\n",
       "      <th>Restaurant20To50</th>\n",
       "      <th>toCoupon_GEQ5min</th>\n",
       "      <th>toCoupon_GEQ15min</th>\n",
       "      <th>toCoupon_GEQ25min</th>\n",
       "      <th>direction_same</th>\n",
       "      <th>direction_opp</th>\n",
       "      <th>Y</th>\n",
       "    </tr>\n",
       "  </thead>\n",
       "  <tbody>\n",
       "    <tr>\n",
       "      <th>0</th>\n",
       "      <td>No Urgent Place</td>\n",
       "      <td>Alone</td>\n",
       "      <td>Sunny</td>\n",
       "      <td>55</td>\n",
       "      <td>2PM</td>\n",
       "      <td>Restaurant(&lt;20)</td>\n",
       "      <td>1d</td>\n",
       "      <td>Female</td>\n",
       "      <td>21</td>\n",
       "      <td>Unmarried partner</td>\n",
       "      <td>1</td>\n",
       "      <td>Some college - no degree</td>\n",
       "      <td>Unemployed</td>\n",
       "      <td>$37500 - $49999</td>\n",
       "      <td>never</td>\n",
       "      <td>never</td>\n",
       "      <td>1~3</td>\n",
       "      <td>4~8</td>\n",
       "      <td>1~3</td>\n",
       "      <td>1</td>\n",
       "      <td>0</td>\n",
       "      <td>0</td>\n",
       "      <td>0</td>\n",
       "      <td>1</td>\n",
       "      <td>1</td>\n",
       "    </tr>\n",
       "    <tr>\n",
       "      <th>1</th>\n",
       "      <td>No Urgent Place</td>\n",
       "      <td>Friend(s)</td>\n",
       "      <td>Sunny</td>\n",
       "      <td>80</td>\n",
       "      <td>10AM</td>\n",
       "      <td>Coffee House</td>\n",
       "      <td>2h</td>\n",
       "      <td>Female</td>\n",
       "      <td>21</td>\n",
       "      <td>Unmarried partner</td>\n",
       "      <td>1</td>\n",
       "      <td>Some college - no degree</td>\n",
       "      <td>Unemployed</td>\n",
       "      <td>$37500 - $49999</td>\n",
       "      <td>never</td>\n",
       "      <td>never</td>\n",
       "      <td>1~3</td>\n",
       "      <td>4~8</td>\n",
       "      <td>1~3</td>\n",
       "      <td>1</td>\n",
       "      <td>0</td>\n",
       "      <td>0</td>\n",
       "      <td>0</td>\n",
       "      <td>1</td>\n",
       "      <td>0</td>\n",
       "    </tr>\n",
       "    <tr>\n",
       "      <th>2</th>\n",
       "      <td>No Urgent Place</td>\n",
       "      <td>Friend(s)</td>\n",
       "      <td>Sunny</td>\n",
       "      <td>80</td>\n",
       "      <td>10AM</td>\n",
       "      <td>Carry out &amp; Take away</td>\n",
       "      <td>2h</td>\n",
       "      <td>Female</td>\n",
       "      <td>21</td>\n",
       "      <td>Unmarried partner</td>\n",
       "      <td>1</td>\n",
       "      <td>Some college - no degree</td>\n",
       "      <td>Unemployed</td>\n",
       "      <td>$37500 - $49999</td>\n",
       "      <td>never</td>\n",
       "      <td>never</td>\n",
       "      <td>1~3</td>\n",
       "      <td>4~8</td>\n",
       "      <td>1~3</td>\n",
       "      <td>1</td>\n",
       "      <td>1</td>\n",
       "      <td>0</td>\n",
       "      <td>0</td>\n",
       "      <td>1</td>\n",
       "      <td>1</td>\n",
       "    </tr>\n",
       "    <tr>\n",
       "      <th>3</th>\n",
       "      <td>No Urgent Place</td>\n",
       "      <td>Friend(s)</td>\n",
       "      <td>Sunny</td>\n",
       "      <td>80</td>\n",
       "      <td>2PM</td>\n",
       "      <td>Coffee House</td>\n",
       "      <td>2h</td>\n",
       "      <td>Female</td>\n",
       "      <td>21</td>\n",
       "      <td>Unmarried partner</td>\n",
       "      <td>1</td>\n",
       "      <td>Some college - no degree</td>\n",
       "      <td>Unemployed</td>\n",
       "      <td>$37500 - $49999</td>\n",
       "      <td>never</td>\n",
       "      <td>never</td>\n",
       "      <td>1~3</td>\n",
       "      <td>4~8</td>\n",
       "      <td>1~3</td>\n",
       "      <td>1</td>\n",
       "      <td>1</td>\n",
       "      <td>0</td>\n",
       "      <td>0</td>\n",
       "      <td>1</td>\n",
       "      <td>0</td>\n",
       "    </tr>\n",
       "    <tr>\n",
       "      <th>4</th>\n",
       "      <td>No Urgent Place</td>\n",
       "      <td>Friend(s)</td>\n",
       "      <td>Sunny</td>\n",
       "      <td>80</td>\n",
       "      <td>2PM</td>\n",
       "      <td>Coffee House</td>\n",
       "      <td>1d</td>\n",
       "      <td>Female</td>\n",
       "      <td>21</td>\n",
       "      <td>Unmarried partner</td>\n",
       "      <td>1</td>\n",
       "      <td>Some college - no degree</td>\n",
       "      <td>Unemployed</td>\n",
       "      <td>$37500 - $49999</td>\n",
       "      <td>never</td>\n",
       "      <td>never</td>\n",
       "      <td>1~3</td>\n",
       "      <td>4~8</td>\n",
       "      <td>1~3</td>\n",
       "      <td>1</td>\n",
       "      <td>1</td>\n",
       "      <td>0</td>\n",
       "      <td>0</td>\n",
       "      <td>1</td>\n",
       "      <td>0</td>\n",
       "    </tr>\n",
       "  </tbody>\n",
       "</table>\n",
       "</div>"
      ],
      "text/plain": [
       "       destination  passanger weather  temperature  time  \\\n",
       "0  No Urgent Place      Alone   Sunny           55   2PM   \n",
       "1  No Urgent Place  Friend(s)   Sunny           80  10AM   \n",
       "2  No Urgent Place  Friend(s)   Sunny           80  10AM   \n",
       "3  No Urgent Place  Friend(s)   Sunny           80   2PM   \n",
       "4  No Urgent Place  Friend(s)   Sunny           80   2PM   \n",
       "\n",
       "                  coupon expiration  gender age      maritalStatus  \\\n",
       "0        Restaurant(<20)         1d  Female  21  Unmarried partner   \n",
       "1           Coffee House         2h  Female  21  Unmarried partner   \n",
       "2  Carry out & Take away         2h  Female  21  Unmarried partner   \n",
       "3           Coffee House         2h  Female  21  Unmarried partner   \n",
       "4           Coffee House         1d  Female  21  Unmarried partner   \n",
       "\n",
       "   has_children                 education  occupation           income    Bar  \\\n",
       "0             1  Some college - no degree  Unemployed  $37500 - $49999  never   \n",
       "1             1  Some college - no degree  Unemployed  $37500 - $49999  never   \n",
       "2             1  Some college - no degree  Unemployed  $37500 - $49999  never   \n",
       "3             1  Some college - no degree  Unemployed  $37500 - $49999  never   \n",
       "4             1  Some college - no degree  Unemployed  $37500 - $49999  never   \n",
       "\n",
       "  CoffeeHouse CarryAway RestaurantLessThan20 Restaurant20To50  \\\n",
       "0       never       1~3                  4~8              1~3   \n",
       "1       never       1~3                  4~8              1~3   \n",
       "2       never       1~3                  4~8              1~3   \n",
       "3       never       1~3                  4~8              1~3   \n",
       "4       never       1~3                  4~8              1~3   \n",
       "\n",
       "   toCoupon_GEQ5min  toCoupon_GEQ15min  toCoupon_GEQ25min  direction_same  \\\n",
       "0                 1                  0                  0               0   \n",
       "1                 1                  0                  0               0   \n",
       "2                 1                  1                  0               0   \n",
       "3                 1                  1                  0               0   \n",
       "4                 1                  1                  0               0   \n",
       "\n",
       "   direction_opp  Y  \n",
       "0              1  1  \n",
       "1              1  0  \n",
       "2              1  1  \n",
       "3              1  0  \n",
       "4              1  0  "
      ]
     },
     "execution_count": 195,
     "metadata": {},
     "output_type": "execute_result"
    }
   ],
   "source": [
    "#Examining the data\n",
    "df.head()"
   ]
  },
  {
   "cell_type": "markdown",
   "metadata": {
    "id": "YE6oJbXd_qRI"
   },
   "source": [
    "4. What proportion of the total observations chose to accept the coupon?\n",
    "\n"
   ]
  },
  {
   "cell_type": "code",
   "execution_count": 196,
   "metadata": {
    "id": "86GGqBTv_qRI"
   },
   "outputs": [
    {
     "name": "stdout",
     "output_type": "stream",
     "text": [
      "Proportion of drivers who chose to accept the coupon: 0.57\n"
     ]
    }
   ],
   "source": [
    "#Calculating proportion of drivers who chose to accept the coupon, rounding to 2 decimals\n",
    "proportion = round((df['Y'].sum())/len(df), 2)\n",
    "print('Proportion of drivers who chose to accept the coupon:', proportion)"
   ]
  },
  {
   "cell_type": "markdown",
   "metadata": {
    "id": "vflz0DoE_qRI"
   },
   "source": [
    "5. Use a bar plot to visualize the `coupon` column."
   ]
  },
  {
   "cell_type": "code",
   "execution_count": 198,
   "metadata": {
    "id": "dHFh3E45_qRI"
   },
   "outputs": [
    {
     "data": {
      "text/plain": [
       "Text(0, 0.5, 'Number of coupons')"
      ]
     },
     "execution_count": 198,
     "metadata": {},
     "output_type": "execute_result"
    },
    {
     "data": {
      "image/png": "[encoded data removed]",
      "text/plain": [
       "<Figure size 640x480 with 1 Axes>"
      ]
     },
     "metadata": {},
     "output_type": "display_data"
    }
   ],
   "source": [
    "#Bar plot for the column 'coupon' using pandas\n",
    "df['coupon'].value_counts().plot(kind = 'bar')\n",
    "plt.title('Visualization of the coupon column', fontsize=14)  # title\n",
    "plt.xlabel('Coupon types', fontsize=12)  # x-label\n",
    "plt.ylabel('Number of coupons', fontsize=12)  # y-label"
   ]
  },
  {
   "cell_type": "markdown",
   "metadata": {
    "id": "Qw4lCyx2_qRI"
   },
   "source": [
    "6. Use a histogram to visualize the temperature column."
   ]
  },
  {
   "cell_type": "code",
   "execution_count": 200,
   "metadata": {
    "id": "zLtOaJQk_qRI",
    "scrolled": true
   },
   "outputs": [
    {
     "data": {
      "text/plain": [
       "Text(0, 0.5, 'Number of occurences')"
      ]
     },
     "execution_count": 200,
     "metadata": {},
     "output_type": "execute_result"
    },
    {
     "data": {
      "image/png": "[encoded data removed]",
      "text/plain": [
       "<Figure size 600x400 with 1 Axes>"
      ]
     },
     "metadata": {},
     "output_type": "display_data"
    }
   ],
   "source": [
    "#Histogram for 'temperature' column\n",
    "# Setting figure size, plotting the histogram using sns and adding the title\n",
    "plt.figure(figsize=(6, 4))  \n",
    "sns.histplot(data=df, x='temperature', bins=10, color='purple')\n",
    "plt.title('Distribution of Temperature', fontsize=14) #title\n",
    "plt.xlabel('Temperature', fontsize=12)  # x-label\n",
    "plt.ylabel('Number of occurences', fontsize=12)  # y-label"
   ]
  },
  {
   "cell_type": "markdown",
   "metadata": {
    "id": "FupfgeJk_qRJ"
   },
   "source": [
    "**Investigating the Bar Coupons**\n",
    "\n",
    "Now, we will lead you through an exploration of just the bar related coupons.  \n",
    "\n",
    "1. Create a new `DataFrame` that contains just the bar coupons.\n"
   ]
  },
  {
   "cell_type": "code",
   "execution_count": 201,
   "metadata": {},
   "outputs": [
    {
     "data": {
      "text/plain": [
       "array(['Restaurant(<20)', 'Coffee House', 'Carry out & Take away', 'Bar',\n",
       "       'Restaurant(20-50)'], dtype=object)"
      ]
     },
     "execution_count": 201,
     "metadata": {},
     "output_type": "execute_result"
    }
   ],
   "source": [
    "#Understanding coupon types\n",
    "df['coupon'].unique()"
   ]
  },
  {
   "cell_type": "code",
   "execution_count": 202,
   "metadata": {
    "id": "tMBlWuGq_qRJ"
   },
   "outputs": [
    {
     "data": {
      "text/html": [
       "<div>\n",
       "<style scoped>\n",
       "    .dataframe tbody tr th:only-of-type {\n",
       "        vertical-align: middle;\n",
       "    }\n",
       "\n",
       "    .dataframe tbody tr th {\n",
       "        vertical-align: top;\n",
       "    }\n",
       "\n",
       "    .dataframe thead th {\n",
       "        text-align: right;\n",
       "    }\n",
       "</style>\n",
       "<table border=\"1\" class=\"dataframe\">\n",
       "  <thead>\n",
       "    <tr style=\"text-align: right;\">\n",
       "      <th></th>\n",
       "      <th>destination</th>\n",
       "      <th>passanger</th>\n",
       "      <th>weather</th>\n",
       "      <th>temperature</th>\n",
       "      <th>time</th>\n",
       "      <th>coupon</th>\n",
       "      <th>expiration</th>\n",
       "      <th>gender</th>\n",
       "      <th>age</th>\n",
       "      <th>maritalStatus</th>\n",
       "      <th>has_children</th>\n",
       "      <th>education</th>\n",
       "      <th>occupation</th>\n",
       "      <th>income</th>\n",
       "      <th>Bar</th>\n",
       "      <th>CoffeeHouse</th>\n",
       "      <th>CarryAway</th>\n",
       "      <th>RestaurantLessThan20</th>\n",
       "      <th>Restaurant20To50</th>\n",
       "      <th>toCoupon_GEQ5min</th>\n",
       "      <th>toCoupon_GEQ15min</th>\n",
       "      <th>toCoupon_GEQ25min</th>\n",
       "      <th>direction_same</th>\n",
       "      <th>direction_opp</th>\n",
       "      <th>Y</th>\n",
       "    </tr>\n",
       "  </thead>\n",
       "  <tbody>\n",
       "    <tr>\n",
       "      <th>9</th>\n",
       "      <td>No Urgent Place</td>\n",
       "      <td>Kid(s)</td>\n",
       "      <td>Sunny</td>\n",
       "      <td>80</td>\n",
       "      <td>10AM</td>\n",
       "      <td>Bar</td>\n",
       "      <td>1d</td>\n",
       "      <td>Female</td>\n",
       "      <td>21</td>\n",
       "      <td>Unmarried partner</td>\n",
       "      <td>1</td>\n",
       "      <td>Some college - no degree</td>\n",
       "      <td>Unemployed</td>\n",
       "      <td>$37500 - $49999</td>\n",
       "      <td>never</td>\n",
       "      <td>never</td>\n",
       "      <td>1~3</td>\n",
       "      <td>4~8</td>\n",
       "      <td>1~3</td>\n",
       "      <td>1</td>\n",
       "      <td>1</td>\n",
       "      <td>0</td>\n",
       "      <td>0</td>\n",
       "      <td>1</td>\n",
       "      <td>0</td>\n",
       "    </tr>\n",
       "    <tr>\n",
       "      <th>13</th>\n",
       "      <td>Home</td>\n",
       "      <td>Alone</td>\n",
       "      <td>Sunny</td>\n",
       "      <td>55</td>\n",
       "      <td>6PM</td>\n",
       "      <td>Bar</td>\n",
       "      <td>1d</td>\n",
       "      <td>Female</td>\n",
       "      <td>21</td>\n",
       "      <td>Unmarried partner</td>\n",
       "      <td>1</td>\n",
       "      <td>Some college - no degree</td>\n",
       "      <td>Unemployed</td>\n",
       "      <td>$37500 - $49999</td>\n",
       "      <td>never</td>\n",
       "      <td>never</td>\n",
       "      <td>1~3</td>\n",
       "      <td>4~8</td>\n",
       "      <td>1~3</td>\n",
       "      <td>1</td>\n",
       "      <td>0</td>\n",
       "      <td>0</td>\n",
       "      <td>1</td>\n",
       "      <td>0</td>\n",
       "      <td>1</td>\n",
       "    </tr>\n",
       "    <tr>\n",
       "      <th>17</th>\n",
       "      <td>Work</td>\n",
       "      <td>Alone</td>\n",
       "      <td>Sunny</td>\n",
       "      <td>55</td>\n",
       "      <td>7AM</td>\n",
       "      <td>Bar</td>\n",
       "      <td>1d</td>\n",
       "      <td>Female</td>\n",
       "      <td>21</td>\n",
       "      <td>Unmarried partner</td>\n",
       "      <td>1</td>\n",
       "      <td>Some college - no degree</td>\n",
       "      <td>Unemployed</td>\n",
       "      <td>$37500 - $49999</td>\n",
       "      <td>never</td>\n",
       "      <td>never</td>\n",
       "      <td>1~3</td>\n",
       "      <td>4~8</td>\n",
       "      <td>1~3</td>\n",
       "      <td>1</td>\n",
       "      <td>1</td>\n",
       "      <td>1</td>\n",
       "      <td>0</td>\n",
       "      <td>1</td>\n",
       "      <td>0</td>\n",
       "    </tr>\n",
       "    <tr>\n",
       "      <th>24</th>\n",
       "      <td>No Urgent Place</td>\n",
       "      <td>Friend(s)</td>\n",
       "      <td>Sunny</td>\n",
       "      <td>80</td>\n",
       "      <td>10AM</td>\n",
       "      <td>Bar</td>\n",
       "      <td>1d</td>\n",
       "      <td>Male</td>\n",
       "      <td>21</td>\n",
       "      <td>Single</td>\n",
       "      <td>0</td>\n",
       "      <td>Bachelors degree</td>\n",
       "      <td>Architecture &amp; Engineering</td>\n",
       "      <td>$62500 - $74999</td>\n",
       "      <td>never</td>\n",
       "      <td>less1</td>\n",
       "      <td>4~8</td>\n",
       "      <td>4~8</td>\n",
       "      <td>less1</td>\n",
       "      <td>1</td>\n",
       "      <td>0</td>\n",
       "      <td>0</td>\n",
       "      <td>0</td>\n",
       "      <td>1</td>\n",
       "      <td>1</td>\n",
       "    </tr>\n",
       "    <tr>\n",
       "      <th>35</th>\n",
       "      <td>Home</td>\n",
       "      <td>Alone</td>\n",
       "      <td>Sunny</td>\n",
       "      <td>55</td>\n",
       "      <td>6PM</td>\n",
       "      <td>Bar</td>\n",
       "      <td>1d</td>\n",
       "      <td>Male</td>\n",
       "      <td>21</td>\n",
       "      <td>Single</td>\n",
       "      <td>0</td>\n",
       "      <td>Bachelors degree</td>\n",
       "      <td>Architecture &amp; Engineering</td>\n",
       "      <td>$62500 - $74999</td>\n",
       "      <td>never</td>\n",
       "      <td>less1</td>\n",
       "      <td>4~8</td>\n",
       "      <td>4~8</td>\n",
       "      <td>less1</td>\n",
       "      <td>1</td>\n",
       "      <td>0</td>\n",
       "      <td>0</td>\n",
       "      <td>1</td>\n",
       "      <td>0</td>\n",
       "      <td>1</td>\n",
       "    </tr>\n",
       "  </tbody>\n",
       "</table>\n",
       "</div>"
      ],
      "text/plain": [
       "        destination  passanger weather  temperature  time coupon expiration  \\\n",
       "9   No Urgent Place     Kid(s)   Sunny           80  10AM    Bar         1d   \n",
       "13             Home      Alone   Sunny           55   6PM    Bar         1d   \n",
       "17             Work      Alone   Sunny           55   7AM    Bar         1d   \n",
       "24  No Urgent Place  Friend(s)   Sunny           80  10AM    Bar         1d   \n",
       "35             Home      Alone   Sunny           55   6PM    Bar         1d   \n",
       "\n",
       "    gender age      maritalStatus  has_children                 education  \\\n",
       "9   Female  21  Unmarried partner             1  Some college - no degree   \n",
       "13  Female  21  Unmarried partner             1  Some college - no degree   \n",
       "17  Female  21  Unmarried partner             1  Some college - no degree   \n",
       "24    Male  21             Single             0          Bachelors degree   \n",
       "35    Male  21             Single             0          Bachelors degree   \n",
       "\n",
       "                    occupation           income    Bar CoffeeHouse CarryAway  \\\n",
       "9                   Unemployed  $37500 - $49999  never       never       1~3   \n",
       "13                  Unemployed  $37500 - $49999  never       never       1~3   \n",
       "17                  Unemployed  $37500 - $49999  never       never       1~3   \n",
       "24  Architecture & Engineering  $62500 - $74999  never       less1       4~8   \n",
       "35  Architecture & Engineering  $62500 - $74999  never       less1       4~8   \n",
       "\n",
       "   RestaurantLessThan20 Restaurant20To50  toCoupon_GEQ5min  toCoupon_GEQ15min  \\\n",
       "9                   4~8              1~3                 1                  1   \n",
       "13                  4~8              1~3                 1                  0   \n",
       "17                  4~8              1~3                 1                  1   \n",
       "24                  4~8            less1                 1                  0   \n",
       "35                  4~8            less1                 1                  0   \n",
       "\n",
       "    toCoupon_GEQ25min  direction_same  direction_opp  Y  \n",
       "9                   0               0              1  0  \n",
       "13                  0               1              0  1  \n",
       "17                  1               0              1  0  \n",
       "24                  0               0              1  1  \n",
       "35                  0               1              0  1  "
      ]
     },
     "execution_count": 202,
     "metadata": {},
     "output_type": "execute_result"
    }
   ],
   "source": [
    "#creating a new dataframe that contains only bar coupons\n",
    "df_bar = df[df['coupon'] == 'Bar'].copy()\n",
    "\n",
    "#Examining the new data frame\n",
    "df_bar.head()"
   ]
  },
  {
   "cell_type": "markdown",
   "metadata": {
    "id": "8ue6uCqf_qRJ"
   },
   "source": [
    "2. What proportion of bar coupons were accepted?\n"
   ]
  },
  {
   "cell_type": "code",
   "execution_count": 203,
   "metadata": {
    "id": "hSdte8Mi_qRK"
   },
   "outputs": [
    {
     "data": {
      "text/plain": [
       "0.41"
      ]
     },
     "execution_count": 203,
     "metadata": {},
     "output_type": "execute_result"
    }
   ],
   "source": [
    "#calculating proportion and rounding to 2 decimals\n",
    "proportion_bar = round((df_bar['Y'].sum())/len(df_bar),2)\n",
    "proportion_bar"
   ]
  },
  {
   "cell_type": "code",
   "execution_count": 206,
   "metadata": {},
   "outputs": [
    {
     "data": {
      "text/plain": [
       "Text(0, 0.5, 'Quantity')"
      ]
     },
     "execution_count": 206,
     "metadata": {},
     "output_type": "execute_result"
    },
    {
     "data": {
      "image/png": "[encoded data removed]",
      "text/plain": [
       "<Figure size 640x480 with 1 Axes>"
      ]
     },
     "metadata": {},
     "output_type": "display_data"
    }
   ],
   "source": [
    "#plotting counts to visualize how many bar coupons were accepted\n",
    "df_bar['Y'].value_counts().plot(kind = 'bar')\n",
    "\n",
    "plt.title('Number of bar coupons that were accepted')#title\n",
    "plt.xlabel('Acceptance/Rejection of coupons')  # x-label\n",
    "plt.ylabel('Quantity')  # y-label"
   ]
  },
  {
   "cell_type": "markdown",
   "metadata": {
    "id": "85nA_iEi_qRK"
   },
   "source": [
    "3. Compare the acceptance rate between those who went to a bar 3 or fewer times a month to those who went more."
   ]
  },
  {
   "cell_type": "code",
   "execution_count": 207,
   "metadata": {},
   "outputs": [
    {
     "name": "stdout",
     "output_type": "stream",
     "text": [
      "Low freq = 0.37 \n",
      " High freq = 0.77\n"
     ]
    }
   ],
   "source": [
    "# Defining new categories to create the 2 groups - group 1: Those who went to a bar 3 or fewer times a month, \n",
    "# group 2: Those who went to a bar more than 3 times a month\n",
    "low_freq = ['never', 'less1', '1~3']\n",
    "high_freq = ['gt8', '4~8']\n",
    "\n",
    "# Creating a new 'freq' column & assigning values\n",
    "df_bar['freq'] = ['low' if x in low_freq\n",
    "                  else 'high' if x in high_freq \n",
    "                  else 'other' for x in df_bar['Bar']]\n",
    "\n",
    "#counting number of rows where freq column values are low and high\n",
    "low_freq_rows = df_bar[df_bar['freq'] == 'low']\n",
    "high_freq_rows = df_bar[df_bar['freq'] == 'high']\n",
    "\n",
    "#calculating acceptance rates for low and high frequencies and rounding to 2 decimals\n",
    "acceptance_low_freq = round(len(low_freq_rows[low_freq_rows['Y'] == 1]) / len(low_freq_rows),2)\n",
    "acceptance_high_freq = round(len(high_freq_rows[high_freq_rows['Y'] == 1]) / len(high_freq_rows),2)\n",
    "\n",
    "#printing results\n",
    "print('Low freq =', acceptance_low_freq, '\\n High freq =', acceptance_high_freq)"
   ]
  },
  {
   "cell_type": "markdown",
   "metadata": {
    "id": "RBgcQwH4_qRK"
   },
   "source": [
    "4. Compare the acceptance rate between drivers who go to a bar more than once a month and are over the age of 25 to the all others.  Is there a difference?"
   ]
  },
  {
   "cell_type": "code",
   "execution_count": 208,
   "metadata": {},
   "outputs": [
    {
     "data": {
      "text/plain": [
       "Bar\n",
       "never    851\n",
       "less1    570\n",
       "1~3      397\n",
       "4~8      150\n",
       "gt8       49\n",
       "Name: count, dtype: int64"
      ]
     },
     "execution_count": 208,
     "metadata": {},
     "output_type": "execute_result"
    }
   ],
   "source": [
    "#examing all values for 'Bar'\n",
    "df_bar['Bar'].value_counts()"
   ]
  },
  {
   "cell_type": "code",
   "execution_count": 210,
   "metadata": {
    "id": "bf28bbeX_qRK"
   },
   "outputs": [
    {
     "name": "stdout",
     "output_type": "stream",
     "text": [
      "Acceptance rates \n",
      "\n",
      "Over 25 and frequent to bar = 0.7\n",
      "\n",
      "\n",
      "Other = 0.34\n",
      "\n",
      " Yes, there is a large difference in the acceptance rates between the two groups - About 70% over 25 and frequent to bar vs 33% in the other category.\n"
     ]
    }
   ],
   "source": [
    "## Defining new categories to create the 2 groups - group 1: drivers who go to a bar more than once a month + are over the age of 25, group 2: all others\n",
    "over_1_freq = ['1~3', '4~8', 'gt8']\n",
    "over_25 = ['26', '31', '36', '41', '46', '50plus']\n",
    "\n",
    "# Create '25nfreq' column using np.array. \n",
    "df_bar['25nfreq'] = np.where(\n",
    "    (df_bar['Bar'].isin(over_1_freq)) & (df_bar['age'].isin(over_25)), 'over25highfreq', 'other'\n",
    ")\n",
    "\n",
    "#calculating acceptance rates and rounding to 2 decimal points. \n",
    "#Since the column 'Y' holds binary values, 0 and 1, mean function can be used to compute the acceptance rates instead of adding all Y=1 values pergroup and dividing by group totals as done earlier \n",
    "acceptance_25nfreq_high = round((df_bar[df_bar['25nfreq'] == 'over25highfreq']['Y']).mean(), 2)\n",
    "acceptance_25nfreq_other = round((df_bar[df_bar['25nfreq'] == 'other']['Y']).mean(), 2)\n",
    "\n",
    "#Print results\n",
    "print('Acceptance rates \\n')\n",
    "print('Over 25 and frequent to bar =', acceptance_25nfreq_high)\n",
    "print('\\n')\n",
    "print('Other =', acceptance_25nfreq_other)\n",
    "\n",
    "#Is there a difference? - Yes, there is a large difference in the acceptance rates between the two groups - About 70% over 25 and frequent to bar vs 33% in the 'other' category.\n",
    "print('\\n Yes, there is a large difference in the acceptance rates between the two groups - About 70% over 25 and frequent to bar vs 33% in the other category.')"
   ]
  },
  {
   "cell_type": "markdown",
   "metadata": {
    "id": "S4RKT4PJ_qRK"
   },
   "source": [
    "5. Use the same process to compare the acceptance rate between drivers who go to bars more than once a month and had passengers that were not a kid and had occupations other than farming, fishing, or forestry.\n"
   ]
  },
  {
   "cell_type": "code",
   "execution_count": 211,
   "metadata": {
    "id": "sENaI2Tg_qRK"
   },
   "outputs": [
    {
     "name": "stdout",
     "output_type": "stream",
     "text": [
      "\n",
      "Acceptance Rates:\n",
      "\n",
      " Drivers who go to bars more than once a month and had passengers that were not a kid and had occupations other than farming, fishing, or forestry = 0.71 \n",
      " Others = 0.3\n"
     ]
    }
   ],
   "source": [
    "# Define categories for creating 2 groups - group 1: drivers who go to bars more than once a month and had passengers that \n",
    "# were not a kid and had occupations other than farming, fishing, or forestry. Group 2: All others\n",
    "over_1_freq = ['1~3', '4~8', 'gt8']\n",
    "not_kid_passenger = ['Alone','Friend(s)','Partner']\n",
    "not_fff_occupation = [x for x in df_bar['occupation'].unique() if x != 'Farming Fishing & Forestry']  # All except farming\n",
    "\n",
    "# Create 'bar_pass_occ' column\n",
    "df_bar['bar_pass_occ'] = np.where(\n",
    "    (df_bar['Bar'].isin(over_1_freq)) & \n",
    "    (df_bar['passanger'].isin(not_kid_passenger)) & \n",
    "    (df_bar['occupation'].isin(not_fff_occupation)), \n",
    "    'freq_noKid_noFFF', 'other'\n",
    ")\n",
    "\n",
    "# Calculate acceptance rates\n",
    "acceptance_freq_noKid_noFFF = round(df_bar[df_bar['bar_pass_occ'] == 'freq_noKid_noFFF']['Y'].mean(),2)\n",
    "acceptance_other = round(df_bar[df_bar['bar_pass_occ'] == 'other']['Y'].mean(),2)\n",
    "\n",
    "# Display results\n",
    "print('\\nAcceptance Rates:')\n",
    "print('\\n Drivers who go to bars more than once a month and had passengers that were not a kid and had occupations other than farming, fishing, or forestry =', acceptance_freq_noKid_noFFF, '\\n Others =', acceptance_other)\n"
   ]
  },
  {
   "cell_type": "markdown",
   "metadata": {
    "id": "n2LIUTil_qRK"
   },
   "source": [
    "6. Compare the acceptance rates between those drivers who:\n",
    "\n",
    "- go to bars more than once a month, had passengers that were not a kid, and were not widowed *OR*\n",
    "- go to bars more than once a month and are under the age of 30 *OR*\n",
    "- go to cheap restaurants more than 4 times a month and income is less than 50K.\n"
   ]
  },
  {
   "cell_type": "code",
   "execution_count": 212,
   "metadata": {
    "id": "aK_wEzx7_qRK"
   },
   "outputs": [
    {
     "name": "stdout",
     "output_type": "stream",
     "text": [
      "Acceptance rates\n",
      "\n",
      " Target group meeting any of the specified conditions = 0.61 \n",
      " Others = 0.3\n"
     ]
    }
   ],
   "source": [
    "# Define categories for creating 2 groups - \n",
    "# Group 1: drivers who go to bars more than once a month, had passengers that were not a kid, and were not widowed OR\n",
    "# drivers go to bars more than once a month and are under the age of 30 OR\n",
    "# go to cheap restaurants more than 4 times a month and income is less than 50K.- This group is the 'target' group\n",
    "# Group 2: All others\n",
    "\n",
    "#Define categories\n",
    "over_1_freq = ['1~3', '4~8', 'gt8']  # Bar visits >1/month\n",
    "not_kid_passenger = [x for x in df_bar['passanger'].unique() if x != 'Kid(s)']  # Exclude 'Kid(s)'\n",
    "not_widowed = [x for x in df_bar['maritalStatus'].unique() if x != 'Widowed']  # Exclude 'Widowed'\n",
    "under_30 = ['below21', '21', '26']  # Age < 30\n",
    "over_4_restaurant = ['4~8', 'gt8']  # Cheap restaurant >4 times/month\n",
    "low_income = ['$12500 - $24999', '$25000 - $37499', '$37500 - $49999']  # Income < $50K\n",
    "\n",
    "# Create 'target_group' column for any of the three conditions specified\n",
    "df_bar['target_group'] = np.where(\n",
    "    (\n",
    "        # Condition 1: Bar>1, passenger != kid, not widowed\n",
    "        (df_bar['Bar'].isin(over_1_freq)) & \n",
    "        (df_bar['passanger'].isin(not_kid_passenger)) & \n",
    "        (df_bar['maritalStatus'].isin(not_widowed))\n",
    "    ) | (\n",
    "        # Condition 2: Bar>1, age<30\n",
    "        (df_bar['Bar'].isin(over_1_freq)) & \n",
    "        (df_bar['age'].isin(under_30))\n",
    "    ) | (\n",
    "        # Condition 3: Cheap restaurant >4/month, income < $50K\n",
    "        (df_bar['RestaurantLessThan20'].isin(over_4_restaurant)) & \n",
    "        (df_bar['income'].isin(low_income))\n",
    "    ),\n",
    "    'target', 'other'\n",
    ")\n",
    "\n",
    "# Calculate acceptance rates\n",
    "acceptance_target = round(df_bar[df_bar['target_group'] == 'target']['Y'].mean(), 2)\n",
    "acceptance_other = round(df_bar[df_bar['target_group'] == 'other']['Y'].mean(), 2)\n",
    "\n",
    "#print results\n",
    "print('Acceptance rates')\n",
    "print('\\n Target group meeting any of the specified conditions =', acceptance_target, '\\n Others =', acceptance_other)\n"
   ]
  },
  {
   "cell_type": "markdown",
   "metadata": {
    "id": "v3fL3QkO_qRK"
   },
   "source": [
    "7.  Based on these observations, what do you hypothesize about drivers who accepted the bar coupons?"
   ]
  },
  {
   "cell_type": "markdown",
   "metadata": {},
   "source": [
    "Observations\n",
    "-  41% of bar coupons were accepted.\n",
    "- Drivers visiting bars more than once a month, especially >3 times, have about 77% acceptance rate, likely due to their regular bar-going habits.\n",
    "- Drivers with non-kid passengers and non-farming occupations show a 71% acceptance rate, reflecting social, urban lifestyles.\n",
    "- Frequent bar-goers over 25 have a 70% acceptance rate, showing appeal across young to middle-aged drivers.\n",
    "- Drivers with income < $50K and like to socialize, or those who have spouse or are single, or those under 30, part of a 61% acceptance rate, accept coupons as deal-seekers.\n",
    "\n",
    "Below is my hypothesis based on these observations:\n",
    "Drivers who frequently visit bars, especially those with social, urban lifestyles, non-widowers and from lower incomes, are highly likely to accept Bar coupons due to their regular bar-going habits and deal-seeking behaviors. These targeted segments, spanning young to middle-aged adults, show significantly higher acceptance rates (61%–76%) than others, making them prime candidates for coupon campaigns. Overall, acceptance rate for bar coupons is 41%."
   ]
  },
  {
   "cell_type": "markdown",
   "metadata": {
    "id": "r4Hu1zOb_qRL"
   },
   "source": [
    "### Independent Investigation\n",
    "\n",
    "Using the bar coupon example as motivation, you are to explore one of the other coupon groups and try to determine the characteristics of passengers who accept the coupons.  "
   ]
  },
  {
   "cell_type": "markdown",
   "metadata": {},
   "source": [
    "Explorative data analysis of Coffee House coupons"
   ]
  },
  {
   "cell_type": "code",
   "execution_count": 213,
   "metadata": {
    "id": "0c71cQhu_qRL"
   },
   "outputs": [
    {
     "data": {
      "text/html": [
       "<div>\n",
       "<style scoped>\n",
       "    .dataframe tbody tr th:only-of-type {\n",
       "        vertical-align: middle;\n",
       "    }\n",
       "\n",
       "    .dataframe tbody tr th {\n",
       "        vertical-align: top;\n",
       "    }\n",
       "\n",
       "    .dataframe thead th {\n",
       "        text-align: right;\n",
       "    }\n",
       "</style>\n",
       "<table border=\"1\" class=\"dataframe\">\n",
       "  <thead>\n",
       "    <tr style=\"text-align: right;\">\n",
       "      <th></th>\n",
       "      <th>destination</th>\n",
       "      <th>passanger</th>\n",
       "      <th>weather</th>\n",
       "      <th>temperature</th>\n",
       "      <th>time</th>\n",
       "      <th>coupon</th>\n",
       "      <th>expiration</th>\n",
       "      <th>gender</th>\n",
       "      <th>age</th>\n",
       "      <th>maritalStatus</th>\n",
       "      <th>has_children</th>\n",
       "      <th>education</th>\n",
       "      <th>occupation</th>\n",
       "      <th>income</th>\n",
       "      <th>Bar</th>\n",
       "      <th>CoffeeHouse</th>\n",
       "      <th>CarryAway</th>\n",
       "      <th>RestaurantLessThan20</th>\n",
       "      <th>Restaurant20To50</th>\n",
       "      <th>toCoupon_GEQ5min</th>\n",
       "      <th>toCoupon_GEQ15min</th>\n",
       "      <th>toCoupon_GEQ25min</th>\n",
       "      <th>direction_same</th>\n",
       "      <th>direction_opp</th>\n",
       "      <th>Y</th>\n",
       "    </tr>\n",
       "  </thead>\n",
       "  <tbody>\n",
       "    <tr>\n",
       "      <th>1</th>\n",
       "      <td>No Urgent Place</td>\n",
       "      <td>Friend(s)</td>\n",
       "      <td>Sunny</td>\n",
       "      <td>80</td>\n",
       "      <td>10AM</td>\n",
       "      <td>Coffee House</td>\n",
       "      <td>2h</td>\n",
       "      <td>Female</td>\n",
       "      <td>21</td>\n",
       "      <td>Unmarried partner</td>\n",
       "      <td>1</td>\n",
       "      <td>Some college - no degree</td>\n",
       "      <td>Unemployed</td>\n",
       "      <td>$37500 - $49999</td>\n",
       "      <td>never</td>\n",
       "      <td>never</td>\n",
       "      <td>1~3</td>\n",
       "      <td>4~8</td>\n",
       "      <td>1~3</td>\n",
       "      <td>1</td>\n",
       "      <td>0</td>\n",
       "      <td>0</td>\n",
       "      <td>0</td>\n",
       "      <td>1</td>\n",
       "      <td>0</td>\n",
       "    </tr>\n",
       "    <tr>\n",
       "      <th>3</th>\n",
       "      <td>No Urgent Place</td>\n",
       "      <td>Friend(s)</td>\n",
       "      <td>Sunny</td>\n",
       "      <td>80</td>\n",
       "      <td>2PM</td>\n",
       "      <td>Coffee House</td>\n",
       "      <td>2h</td>\n",
       "      <td>Female</td>\n",
       "      <td>21</td>\n",
       "      <td>Unmarried partner</td>\n",
       "      <td>1</td>\n",
       "      <td>Some college - no degree</td>\n",
       "      <td>Unemployed</td>\n",
       "      <td>$37500 - $49999</td>\n",
       "      <td>never</td>\n",
       "      <td>never</td>\n",
       "      <td>1~3</td>\n",
       "      <td>4~8</td>\n",
       "      <td>1~3</td>\n",
       "      <td>1</td>\n",
       "      <td>1</td>\n",
       "      <td>0</td>\n",
       "      <td>0</td>\n",
       "      <td>1</td>\n",
       "      <td>0</td>\n",
       "    </tr>\n",
       "    <tr>\n",
       "      <th>4</th>\n",
       "      <td>No Urgent Place</td>\n",
       "      <td>Friend(s)</td>\n",
       "      <td>Sunny</td>\n",
       "      <td>80</td>\n",
       "      <td>2PM</td>\n",
       "      <td>Coffee House</td>\n",
       "      <td>1d</td>\n",
       "      <td>Female</td>\n",
       "      <td>21</td>\n",
       "      <td>Unmarried partner</td>\n",
       "      <td>1</td>\n",
       "      <td>Some college - no degree</td>\n",
       "      <td>Unemployed</td>\n",
       "      <td>$37500 - $49999</td>\n",
       "      <td>never</td>\n",
       "      <td>never</td>\n",
       "      <td>1~3</td>\n",
       "      <td>4~8</td>\n",
       "      <td>1~3</td>\n",
       "      <td>1</td>\n",
       "      <td>1</td>\n",
       "      <td>0</td>\n",
       "      <td>0</td>\n",
       "      <td>1</td>\n",
       "      <td>0</td>\n",
       "    </tr>\n",
       "    <tr>\n",
       "      <th>12</th>\n",
       "      <td>No Urgent Place</td>\n",
       "      <td>Kid(s)</td>\n",
       "      <td>Sunny</td>\n",
       "      <td>55</td>\n",
       "      <td>6PM</td>\n",
       "      <td>Coffee House</td>\n",
       "      <td>2h</td>\n",
       "      <td>Female</td>\n",
       "      <td>21</td>\n",
       "      <td>Unmarried partner</td>\n",
       "      <td>1</td>\n",
       "      <td>Some college - no degree</td>\n",
       "      <td>Unemployed</td>\n",
       "      <td>$37500 - $49999</td>\n",
       "      <td>never</td>\n",
       "      <td>never</td>\n",
       "      <td>1~3</td>\n",
       "      <td>4~8</td>\n",
       "      <td>1~3</td>\n",
       "      <td>1</td>\n",
       "      <td>1</td>\n",
       "      <td>0</td>\n",
       "      <td>0</td>\n",
       "      <td>1</td>\n",
       "      <td>1</td>\n",
       "    </tr>\n",
       "    <tr>\n",
       "      <th>15</th>\n",
       "      <td>Home</td>\n",
       "      <td>Alone</td>\n",
       "      <td>Sunny</td>\n",
       "      <td>80</td>\n",
       "      <td>6PM</td>\n",
       "      <td>Coffee House</td>\n",
       "      <td>2h</td>\n",
       "      <td>Female</td>\n",
       "      <td>21</td>\n",
       "      <td>Unmarried partner</td>\n",
       "      <td>1</td>\n",
       "      <td>Some college - no degree</td>\n",
       "      <td>Unemployed</td>\n",
       "      <td>$37500 - $49999</td>\n",
       "      <td>never</td>\n",
       "      <td>never</td>\n",
       "      <td>1~3</td>\n",
       "      <td>4~8</td>\n",
       "      <td>1~3</td>\n",
       "      <td>1</td>\n",
       "      <td>0</td>\n",
       "      <td>0</td>\n",
       "      <td>0</td>\n",
       "      <td>1</td>\n",
       "      <td>0</td>\n",
       "    </tr>\n",
       "  </tbody>\n",
       "</table>\n",
       "</div>"
      ],
      "text/plain": [
       "        destination  passanger weather  temperature  time        coupon  \\\n",
       "1   No Urgent Place  Friend(s)   Sunny           80  10AM  Coffee House   \n",
       "3   No Urgent Place  Friend(s)   Sunny           80   2PM  Coffee House   \n",
       "4   No Urgent Place  Friend(s)   Sunny           80   2PM  Coffee House   \n",
       "12  No Urgent Place     Kid(s)   Sunny           55   6PM  Coffee House   \n",
       "15             Home      Alone   Sunny           80   6PM  Coffee House   \n",
       "\n",
       "   expiration  gender age      maritalStatus  has_children  \\\n",
       "1          2h  Female  21  Unmarried partner             1   \n",
       "3          2h  Female  21  Unmarried partner             1   \n",
       "4          1d  Female  21  Unmarried partner             1   \n",
       "12         2h  Female  21  Unmarried partner             1   \n",
       "15         2h  Female  21  Unmarried partner             1   \n",
       "\n",
       "                   education  occupation           income    Bar CoffeeHouse  \\\n",
       "1   Some college - no degree  Unemployed  $37500 - $49999  never       never   \n",
       "3   Some college - no degree  Unemployed  $37500 - $49999  never       never   \n",
       "4   Some college - no degree  Unemployed  $37500 - $49999  never       never   \n",
       "12  Some college - no degree  Unemployed  $37500 - $49999  never       never   \n",
       "15  Some college - no degree  Unemployed  $37500 - $49999  never       never   \n",
       "\n",
       "   CarryAway RestaurantLessThan20 Restaurant20To50  toCoupon_GEQ5min  \\\n",
       "1        1~3                  4~8              1~3                 1   \n",
       "3        1~3                  4~8              1~3                 1   \n",
       "4        1~3                  4~8              1~3                 1   \n",
       "12       1~3                  4~8              1~3                 1   \n",
       "15       1~3                  4~8              1~3                 1   \n",
       "\n",
       "    toCoupon_GEQ15min  toCoupon_GEQ25min  direction_same  direction_opp  Y  \n",
       "1                   0                  0               0              1  0  \n",
       "3                   1                  0               0              1  0  \n",
       "4                   1                  0               0              1  0  \n",
       "12                  1                  0               0              1  1  \n",
       "15                  0                  0               0              1  0  "
      ]
     },
     "execution_count": 213,
     "metadata": {},
     "output_type": "execute_result"
    }
   ],
   "source": [
    "#Exploring coupons for Coffee House:\n",
    "#creating a new dataframe that contains only coffee house coupons\n",
    "df_coffee = df[df['coupon'] == 'Coffee House'].copy()\n",
    "\n",
    "#Examine the data\n",
    "df_coffee.head()"
   ]
  },
  {
   "cell_type": "code",
   "execution_count": 214,
   "metadata": {},
   "outputs": [
    {
     "data": {
      "text/plain": [
       "3996"
      ]
     },
     "execution_count": 214,
     "metadata": {},
     "output_type": "execute_result"
    }
   ],
   "source": [
    "#Obtaining the number of rows\n",
    "len(df_coffee)"
   ]
  },
  {
   "cell_type": "code",
   "execution_count": 215,
   "metadata": {},
   "outputs": [
    {
     "name": "stdout",
     "output_type": "stream",
     "text": [
      "0.5\n"
     ]
    }
   ],
   "source": [
    "#calculating proportion of coffee house coupons accepted overall in this dataframe and rounding to 2 decimals\n",
    "proportion_coffee = round((df_coffee['Y'].sum())/len(df_coffee),2)\n",
    "#printing proportion\n",
    "print(proportion_coffee)"
   ]
  },
  {
   "cell_type": "markdown",
   "metadata": {},
   "source": [
    "Analysis of acceptance rates of coffee house coupon based on the time of the day"
   ]
  },
  {
   "cell_type": "code",
   "execution_count": 216,
   "metadata": {},
   "outputs": [
    {
     "name": "stdout",
     "output_type": "stream",
     "text": [
      "Unique time values: ['10AM' '2PM' '6PM' '7AM' '10PM']\n"
     ]
    }
   ],
   "source": [
    "#getting unique values for time\n",
    "print(\"Unique time values:\", df_coffee['time'].unique())"
   ]
  },
  {
   "cell_type": "code",
   "execution_count": 217,
   "metadata": {},
   "outputs": [
    {
     "name": "stdout",
     "output_type": "stream",
     "text": [
      "Acceptance rates per time values and counts: time\n",
      "10AM    0.640712\n",
      "10PM    0.424242\n",
      "2PM     0.547859\n",
      "6PM     0.412626\n",
      "7AM     0.445783\n",
      "Name: Y, dtype: float64\n",
      "Total counts time\n",
      "10AM     899\n",
      "10PM     297\n",
      "2PM      794\n",
      "6PM     1093\n",
      "7AM      913\n",
      "Name: Y, dtype: int64\n"
     ]
    }
   ],
   "source": [
    "#calculate acceptance rates for different times\n",
    "acceptance_by_time = df_coffee.groupby('time')['Y'].mean()\n",
    "#understanding numbers per group\n",
    "acceptance_by_time_counts = df_coffee.groupby('time')['Y'].count()\n",
    "\n",
    "#print results\n",
    "print('Acceptance rates per time values and counts:',acceptance_by_time)\n",
    "print('Total counts',acceptance_by_time_counts)"
   ]
  },
  {
   "cell_type": "code",
   "execution_count": 218,
   "metadata": {},
   "outputs": [
    {
     "data": {
      "text/plain": [
       "Text(0, 0.5, 'Acceptance Rate')"
      ]
     },
     "execution_count": 218,
     "metadata": {},
     "output_type": "execute_result"
    },
    {
     "data": {
      "image/png": "[encoded data removed]",
      "text/plain": [
       "<Figure size 600x400 with 1 Axes>"
      ]
     },
     "metadata": {},
     "output_type": "display_data"
    }
   ],
   "source": [
    "#create a dataframe for acceptance rates by time\n",
    "df_coffee_acceptancebytime = pd.DataFrame(acceptance_by_time.reset_index())\n",
    "df_coffee_acceptancebytime.columns = ['time', 'acceptance_rate']\n",
    "\n",
    "#get counts for each time\n",
    "df_acceptance_by_time_counts = pd.DataFrame(acceptance_by_time_counts.reset_index())\n",
    "df_acceptance_by_time_counts.columns = ['time', 'counts']\n",
    "\n",
    "#Merge the two dataframes using left join\n",
    "df_coffee_acceptancebytime = pd.merge(\n",
    "    df_coffee_acceptancebytime,\n",
    "    df_acceptance_by_time_counts,\n",
    "    on='time',\n",
    "    how='left'\n",
    ")\n",
    "\n",
    "#Visualizing Coffee House Coupon Acceptance Rate by time\n",
    "plt.figure(figsize=(6, 4))\n",
    "sns.barplot(x='time', y='acceptance_rate', data=df_coffee_acceptancebytime, color='magenta')\n",
    "plt.title('Coffee House Coupon Acceptance Rate by Time')\n",
    "plt.xlabel('Time')\n",
    "plt.ylabel('Acceptance Rate')"
   ]
  },
  {
   "cell_type": "markdown",
   "metadata": {},
   "source": [
    "Analysis of acceptance rates of coffee house coupon based gender"
   ]
  },
  {
   "cell_type": "code",
   "execution_count": 219,
   "metadata": {
    "id": "QEsBkvIN_qRL"
   },
   "outputs": [
    {
     "name": "stdout",
     "output_type": "stream",
     "text": [
      "Acceptance rates where gender = female is 0.49\n",
      "Acceptance rates where gender = male is 0.51\n"
     ]
    }
   ],
   "source": [
    "#examining coffee house coupon acceptance rates between genders\n",
    "#examining the gender specific counts\n",
    "df_coffee['gender'].value_counts()\n",
    "\n",
    "#Calculating acceptance rates\n",
    "acceptance_coffee_female = round(df_coffee[df_coffee['gender'] == 'Female']['Y'].mean(),2)\n",
    "acceptance_coffee_male = round(df_coffee[df_coffee['gender'] == 'Male']['Y'].mean(),2)\n",
    "\n",
    "#Print results\n",
    "print('Acceptance rates where gender = female is', acceptance_coffee_female)\n",
    "print('Acceptance rates where gender = male is', acceptance_coffee_male)"
   ]
  },
  {
   "cell_type": "markdown",
   "metadata": {},
   "source": [
    "Analysis of acceptance rates of coffee house coupon based on direction wrt venue - same direction or opposite direction"
   ]
  },
  {
   "cell_type": "code",
   "execution_count": 220,
   "metadata": {
    "id": "fTC2WGE3_qRL"
   },
   "outputs": [
    {
     "name": "stdout",
     "output_type": "stream",
     "text": [
      "Acceptance rates for same direction: 0.53\n"
     ]
    }
   ],
   "source": [
    "#Examining acceptance rate when direction is the same as venue to understand any patterns\n",
    "#Calculating acceptance rates\n",
    "acceptance_coffee_samedir = round(df_coffee[df_coffee['direction_same'] == 1]['Y'].mean(),2)\n",
    "\n",
    "#print results rounded to 2 decimals\n",
    "print('Acceptance rates for same direction:', acceptance_coffee_samedir)"
   ]
  },
  {
   "cell_type": "code",
   "execution_count": 221,
   "metadata": {
    "id": "RrqUWn7d_qRL"
   },
   "outputs": [
    {
     "name": "stdout",
     "output_type": "stream",
     "text": [
      "Acceptance rates for opposite direction: 0.49\n"
     ]
    }
   ],
   "source": [
    "#Examining acceptance rate when direction is the opposite to venue to understand any patterns\n",
    "#Calculating acceptance rates\n",
    "acceptance_coffee_oppdir = round(df_coffee[df_coffee['direction_opp'] == 1]['Y'].mean(),2)\n",
    "\n",
    "#print results rounded to 2 decimals\n",
    "print('Acceptance rates for opposite direction:', acceptance_coffee_oppdir)"
   ]
  },
  {
   "cell_type": "markdown",
   "metadata": {},
   "source": [
    "Analysis of acceptance rates of coffee house coupon based employement status"
   ]
  },
  {
   "cell_type": "code",
   "execution_count": 222,
   "metadata": {},
   "outputs": [
    {
     "name": "stdout",
     "output_type": "stream",
     "text": [
      "\n",
      "Acceptance Rates of drivers who are:\n",
      "\n",
      " Employed = 0.49 \n",
      " Unemployed = 0.54\n"
     ]
    }
   ],
   "source": [
    "#Examining acceptance rates for employed vs all other types\n",
    "#defining catergories to create the 2 groups - unemployed vs employed\n",
    "\n",
    "not_unemployed = [x for x in df_coffee['occupation'].unique() if x != 'Unemployed']  # All except unemployed\n",
    "\n",
    "# Create 'coffee_job' column\n",
    "df_coffee['coffee_job'] = np.where(\n",
    "    df_coffee['occupation'].isin(not_unemployed), \n",
    "    'Employed', 'Unemployed'\n",
    ")\n",
    "\n",
    "# Calculate acceptance rates\n",
    "acceptance_employed = round(df_coffee[df_coffee['coffee_job'] == 'Employed']['Y'].mean(),2)\n",
    "acceptance_unemployed = round(df_coffee[df_coffee['coffee_job'] == 'Unemployed']['Y'].mean(),2)\n",
    "\n",
    "# Display results\n",
    "print('\\nAcceptance Rates of drivers who are:')\n",
    "print('\\n Employed =', acceptance_employed, '\\n Unemployed =', acceptance_unemployed)"
   ]
  },
  {
   "cell_type": "markdown",
   "metadata": {},
   "source": [
    "Analysis of acceptance rates of coffee house coupon based on age"
   ]
  },
  {
   "cell_type": "code",
   "execution_count": 223,
   "metadata": {},
   "outputs": [
    {
     "name": "stdout",
     "output_type": "stream",
     "text": [
      "Unique age values: ['21' '46' '26' '31' '41' '50plus' '36' 'below21']\n"
     ]
    }
   ],
   "source": [
    "#getting unique values for age\n",
    "print(\"Unique age values:\", df_coffee['age'].unique())"
   ]
  },
  {
   "cell_type": "code",
   "execution_count": 224,
   "metadata": {},
   "outputs": [
    {
     "name": "stdout",
     "output_type": "stream",
     "text": [
      "Acceptance rates per age values and counts: age\n",
      "21         0.524349\n",
      "26         0.514828\n",
      "31         0.476726\n",
      "36         0.467662\n",
      "41         0.501538\n",
      "46         0.513636\n",
      "50plus     0.420183\n",
      "below21    0.696774\n",
      "Name: Y, dtype: float64\n",
      "Total counts age\n",
      "21         883\n",
      "26         843\n",
      "31         623\n",
      "36         402\n",
      "41         325\n",
      "46         220\n",
      "50plus     545\n",
      "below21    155\n",
      "Name: Y, dtype: int64\n"
     ]
    }
   ],
   "source": [
    "#analyzing acceptance rates for different age groups\n",
    "acceptance_by_age = df_coffee.groupby('age')['Y'].mean()\n",
    "#understanding numbers per group\n",
    "acceptance_by_age_counts = df_coffee.groupby('age')['Y'].count()\n",
    "\n",
    "#print results\n",
    "print('Acceptance rates per age values and counts:',acceptance_by_age)\n",
    "print('Total counts',acceptance_by_age_counts)"
   ]
  },
  {
   "cell_type": "code",
   "execution_count": 225,
   "metadata": {},
   "outputs": [
    {
     "data": {
      "text/plain": [
       "Text(0, 0.5, 'Acceptance Rate')"
      ]
     },
     "execution_count": 225,
     "metadata": {},
     "output_type": "execute_result"
    },
    {
     "data": {
      "image/png": "[encoded data removed]",
      "text/plain": [
       "<Figure size 600x400 with 1 Axes>"
      ]
     },
     "metadata": {},
     "output_type": "display_data"
    }
   ],
   "source": [
    "#create a dataframe for acceptance rates by age\n",
    "df_coffee_acceptancebyage = pd.DataFrame(acceptance_by_age.reset_index())\n",
    "df_coffee_acceptancebyage.columns = ['age', 'acceptance_rate']\n",
    "\n",
    "#get counts for each age\n",
    "df_acceptance_by_age_counts = pd.DataFrame(acceptance_by_age_counts.reset_index())\n",
    "df_acceptance_by_age_counts.columns = ['age', 'counts']\n",
    "\n",
    "#Merge the two dataframes using left join\n",
    "df_coffee_acceptancebyage = pd.merge(\n",
    "    df_coffee_acceptancebyage,\n",
    "    df_acceptance_by_age_counts,\n",
    "    on='age',\n",
    "    how='left'\n",
    ")\n",
    "\n",
    "#Visualizing Coffee House Coupon Acceptance Rate by Age Group\n",
    "plt.figure(figsize=(6, 4))\n",
    "sns.barplot(x='age', y='acceptance_rate', data=df_coffee_acceptancebyage, color='orange')\n",
    "plt.title('Coffee House Coupon Acceptance Rate by Age Group')\n",
    "plt.xlabel('Age')\n",
    "plt.ylabel('Acceptance Rate')"
   ]
  },
  {
   "cell_type": "markdown",
   "metadata": {},
   "source": [
    "Analysis of acceptance rates of coffee house coupon based on only passanger type"
   ]
  },
  {
   "cell_type": "code",
   "execution_count": 226,
   "metadata": {},
   "outputs": [
    {
     "name": "stdout",
     "output_type": "stream",
     "text": [
      "Unique age values: ['Friend(s)' 'Kid(s)' 'Alone' 'Partner']\n"
     ]
    }
   ],
   "source": [
    "#getting unique values for passanger\n",
    "print(\"Unique age values:\", df_coffee['passanger'].unique())"
   ]
  },
  {
   "cell_type": "code",
   "execution_count": 227,
   "metadata": {},
   "outputs": [
    {
     "name": "stdout",
     "output_type": "stream",
     "text": [
      "Acceptance rates per passanger type and counts: passanger\n",
      "Alone        0.437943\n",
      "Friend(s)    0.596906\n",
      "Kid(s)       0.483092\n",
      "Partner      0.570492\n",
      "Name: Y, dtype: float64\n",
      "Total counts passanger\n",
      "Alone        2256\n",
      "Friend(s)    1228\n",
      "Kid(s)        207\n",
      "Partner       305\n",
      "Name: Y, dtype: int64\n"
     ]
    }
   ],
   "source": [
    "#analyzing acceptance rates for different passanger types\n",
    "acceptance_by_pass = df_coffee.groupby('passanger')['Y'].mean()\n",
    "#understanding numbers per group\n",
    "acceptance_by_pass_counts = df_coffee.groupby('passanger')['Y'].count()\n",
    "\n",
    "#print results\n",
    "print('Acceptance rates per passanger type and counts:',acceptance_by_pass)\n",
    "print('Total counts',acceptance_by_pass_counts)"
   ]
  },
  {
   "cell_type": "code",
   "execution_count": 228,
   "metadata": {},
   "outputs": [
    {
     "data": {
      "text/plain": [
       "Text(0, 0.5, 'Acceptance Rate')"
      ]
     },
     "execution_count": 228,
     "metadata": {},
     "output_type": "execute_result"
    },
    {
     "data": {
      "image/png": "[encoded data removed]",
      "text/plain": [
       "<Figure size 600x400 with 1 Axes>"
      ]
     },
     "metadata": {},
     "output_type": "display_data"
    }
   ],
   "source": [
    "#create a dataframe for acceptance rates by passanger\n",
    "df_coffee_acceptancebypass = pd.DataFrame(acceptance_by_pass.reset_index())\n",
    "df_coffee_acceptancebypass.columns = ['passanger', 'acceptance_rate']\n",
    "\n",
    "#get counts for each passanger type\n",
    "df_acceptance_by_pass_counts = pd.DataFrame(acceptance_by_pass_counts.reset_index())\n",
    "df_acceptance_by_pass_counts.columns = ['passanger', 'counts']\n",
    "\n",
    "#Merge the two dataframes using left join\n",
    "df_coffee_acceptancebypass = pd.merge(\n",
    "    df_coffee_acceptancebypass,\n",
    "    df_acceptance_by_pass_counts,\n",
    "    on='passanger',\n",
    "    how='left'\n",
    ")\n",
    "\n",
    "#Visualizing Coffee House Coupon Acceptance Rate by Age Group\n",
    "plt.figure(figsize=(6, 4))\n",
    "sns.barplot(x='passanger', y='acceptance_rate', data=df_coffee_acceptancebypass)\n",
    "plt.title('Coffee House Coupon Acceptance Rate by passanger type')\n",
    "plt.xlabel('Passanger')\n",
    "plt.ylabel('Acceptance Rate')"
   ]
  },
  {
   "cell_type": "markdown",
   "metadata": {},
   "source": [
    "Analyzing the effect of weather and passanger type for coffee house coupon acceptance rates"
   ]
  },
  {
   "cell_type": "code",
   "execution_count": 229,
   "metadata": {},
   "outputs": [
    {
     "name": "stdout",
     "output_type": "stream",
     "text": [
      "Unique weather values: ['Sunny' 'Rainy' 'Snowy']\n"
     ]
    }
   ],
   "source": [
    "#Understanding unique values for weather\n",
    "print(\"Unique weather values:\", df_coffee['weather'].unique())"
   ]
  },
  {
   "cell_type": "code",
   "execution_count": 230,
   "metadata": {},
   "outputs": [
    {
     "name": "stdout",
     "output_type": "stream",
     "text": [
      "Acceptance rates between 2 groups. Group 1: weather is sunny and passanger is a friend. Group 2: all others\n",
      "Group 1: 0.6\n",
      "Group 2: 0.46\n"
     ]
    }
   ],
   "source": [
    "# Defining new categories to create the 2 groups - group 1: weather is sunny and passanger is a friend, \n",
    "# group 2: all others\n",
    "# Creating a new 'sunnyfriend' column & assigning values\n",
    "goodweather = ['Sunny']\n",
    "\n",
    "# Creating a new 'sunnyfriend' column & assigning values\n",
    "df_coffee['sunnyfriend'] = np.where(\n",
    "    (df_coffee['weather'].isin(goodweather)) &\n",
    "    (df_coffee['passanger'].isin(pas)),\n",
    "     'ideal', 'other'\n",
    "    )\n",
    "\n",
    "#calculating acceptance rates\n",
    "ideal_acceptance = round(df_coffee[df_coffee['sunnyfriend'] == 'ideal']['Y'].mean(), 2)\n",
    "other_acceptance = round(df_coffee[df_coffee['sunnyfriend'] == 'other']['Y'].mean(), 2)\n",
    "print ('Acceptance rates between 2 groups. Group 1: weather is sunny and passanger is a friend. Group 2: all others')\n",
    "print ('Group 1:', ideal_acceptance)\n",
    "print ('Group 2:', other_acceptance)"
   ]
  },
  {
   "cell_type": "markdown",
   "metadata": {},
   "source": [
    "Analysis of coffee house coupon acceptance rate based on education level"
   ]
  },
  {
   "cell_type": "code",
   "execution_count": 231,
   "metadata": {},
   "outputs": [
    {
     "name": "stdout",
     "output_type": "stream",
     "text": [
      "Acceptance rates by education levels and counts: education\n",
      "Associates degree                         0.517143\n",
      "Bachelors degree                          0.462774\n",
      "Graduate degree (Masters or Doctorate)    0.510033\n",
      "High School Graduate                      0.541219\n",
      "Some High School                          0.607143\n",
      "Some college - no degree                  0.515682\n",
      "Name: Y, dtype: float64\n",
      "Total counts education\n",
      "Associates degree                          350\n",
      "Bachelors degree                          1370\n",
      "Graduate degree (Masters or Doctorate)     598\n",
      "High School Graduate                       279\n",
      "Some High School                            28\n",
      "Some college - no degree                  1371\n",
      "Name: Y, dtype: int64\n"
     ]
    }
   ],
   "source": [
    "#analyzing acceptance rates for different education levels\n",
    "acceptance_by_edlvl = df_coffee.groupby('education')['Y'].mean()\n",
    "#understanding numbers per group\n",
    "acceptance_by_edlvl_counts = df_coffee.groupby('education')['Y'].count()\n",
    "\n",
    "#print results\n",
    "print('Acceptance rates by education levels and counts:',acceptance_by_edlvl)\n",
    "print('Total counts',acceptance_by_edlvl_counts)"
   ]
  },
  {
   "cell_type": "code",
   "execution_count": 232,
   "metadata": {},
   "outputs": [
    {
     "data": {
      "text/html": [
       "<div>\n",
       "<style scoped>\n",
       "    .dataframe tbody tr th:only-of-type {\n",
       "        vertical-align: middle;\n",
       "    }\n",
       "\n",
       "    .dataframe tbody tr th {\n",
       "        vertical-align: top;\n",
       "    }\n",
       "\n",
       "    .dataframe thead th {\n",
       "        text-align: right;\n",
       "    }\n",
       "</style>\n",
       "<table border=\"1\" class=\"dataframe\">\n",
       "  <thead>\n",
       "    <tr style=\"text-align: right;\">\n",
       "      <th></th>\n",
       "      <th>education</th>\n",
       "      <th>acceptance_rate</th>\n",
       "    </tr>\n",
       "  </thead>\n",
       "  <tbody>\n",
       "    <tr>\n",
       "      <th>0</th>\n",
       "      <td>Associates degree</td>\n",
       "      <td>0.517143</td>\n",
       "    </tr>\n",
       "    <tr>\n",
       "      <th>1</th>\n",
       "      <td>Bachelors degree</td>\n",
       "      <td>0.462774</td>\n",
       "    </tr>\n",
       "    <tr>\n",
       "      <th>2</th>\n",
       "      <td>Graduate degree (Masters or Doctorate)</td>\n",
       "      <td>0.510033</td>\n",
       "    </tr>\n",
       "    <tr>\n",
       "      <th>3</th>\n",
       "      <td>High School Graduate</td>\n",
       "      <td>0.541219</td>\n",
       "    </tr>\n",
       "    <tr>\n",
       "      <th>4</th>\n",
       "      <td>Some High School</td>\n",
       "      <td>0.607143</td>\n",
       "    </tr>\n",
       "    <tr>\n",
       "      <th>5</th>\n",
       "      <td>Some college - no degree</td>\n",
       "      <td>0.515682</td>\n",
       "    </tr>\n",
       "  </tbody>\n",
       "</table>\n",
       "</div>"
      ],
      "text/plain": [
       "                                education  acceptance_rate\n",
       "0                       Associates degree         0.517143\n",
       "1                        Bachelors degree         0.462774\n",
       "2  Graduate degree (Masters or Doctorate)         0.510033\n",
       "3                    High School Graduate         0.541219\n",
       "4                        Some High School         0.607143\n",
       "5                Some college - no degree         0.515682"
      ]
     },
     "execution_count": 232,
     "metadata": {},
     "output_type": "execute_result"
    }
   ],
   "source": [
    "#create a dataframe for acceptance rates by education\n",
    "df_acceptance_by_edlvl = pd.DataFrame(acceptance_by_edlvl.reset_index())\n",
    "df_acceptance_by_edlvl.columns = ['education', 'acceptance_rate']\n",
    "\n",
    "#get counts for each passanger type and create a dataframe for the data\n",
    "df_acceptance_by_edlvl_counts = pd.DataFrame(acceptance_by_edlvl_counts.reset_index())\n",
    "df_acceptance_by_edlvl_counts.columns = ['education', 'counts']\n",
    "\n",
    "#examining the data\n",
    "df_acceptance_by_edlvl\n",
    "#df_acceptance_by_edlvl_counts"
   ]
  },
  {
   "cell_type": "code",
   "execution_count": 233,
   "metadata": {},
   "outputs": [
    {
     "data": {
      "text/html": [
       "<div>\n",
       "<style scoped>\n",
       "    .dataframe tbody tr th:only-of-type {\n",
       "        vertical-align: middle;\n",
       "    }\n",
       "\n",
       "    .dataframe tbody tr th {\n",
       "        vertical-align: top;\n",
       "    }\n",
       "\n",
       "    .dataframe thead th {\n",
       "        text-align: right;\n",
       "    }\n",
       "</style>\n",
       "<table border=\"1\" class=\"dataframe\">\n",
       "  <thead>\n",
       "    <tr style=\"text-align: right;\">\n",
       "      <th></th>\n",
       "      <th>education</th>\n",
       "      <th>acceptance_rate</th>\n",
       "      <th>counts</th>\n",
       "    </tr>\n",
       "  </thead>\n",
       "  <tbody>\n",
       "    <tr>\n",
       "      <th>0</th>\n",
       "      <td>Associates degree</td>\n",
       "      <td>0.517143</td>\n",
       "      <td>350</td>\n",
       "    </tr>\n",
       "    <tr>\n",
       "      <th>1</th>\n",
       "      <td>Bachelors degree</td>\n",
       "      <td>0.462774</td>\n",
       "      <td>1370</td>\n",
       "    </tr>\n",
       "    <tr>\n",
       "      <th>2</th>\n",
       "      <td>Graduate degree (Masters or Doctorate)</td>\n",
       "      <td>0.510033</td>\n",
       "      <td>598</td>\n",
       "    </tr>\n",
       "    <tr>\n",
       "      <th>3</th>\n",
       "      <td>High School Graduate</td>\n",
       "      <td>0.541219</td>\n",
       "      <td>279</td>\n",
       "    </tr>\n",
       "    <tr>\n",
       "      <th>4</th>\n",
       "      <td>Some High School</td>\n",
       "      <td>0.607143</td>\n",
       "      <td>28</td>\n",
       "    </tr>\n",
       "    <tr>\n",
       "      <th>5</th>\n",
       "      <td>Some college - no degree</td>\n",
       "      <td>0.515682</td>\n",
       "      <td>1371</td>\n",
       "    </tr>\n",
       "  </tbody>\n",
       "</table>\n",
       "</div>"
      ],
      "text/plain": [
       "                                education  acceptance_rate  counts\n",
       "0                       Associates degree         0.517143     350\n",
       "1                        Bachelors degree         0.462774    1370\n",
       "2  Graduate degree (Masters or Doctorate)         0.510033     598\n",
       "3                    High School Graduate         0.541219     279\n",
       "4                        Some High School         0.607143      28\n",
       "5                Some college - no degree         0.515682    1371"
      ]
     },
     "execution_count": 233,
     "metadata": {},
     "output_type": "execute_result"
    }
   ],
   "source": [
    "#Merge the two dataframes using left join\n",
    "df_acceptance_by_edlvl = pd.merge(\n",
    "    df_acceptance_by_edlvl,\n",
    "    df_acceptance_by_edlvl_counts,\n",
    "    on='education',\n",
    "    how='left'\n",
    ")\n",
    "#Examine merged dataframe\n",
    "df_acceptance_by_edlvl"
   ]
  },
  {
   "cell_type": "code",
   "execution_count": 234,
   "metadata": {},
   "outputs": [
    {
     "data": {
      "text/plain": [
       "Text(0.5, 0, 'Acceptance Rate')"
      ]
     },
     "execution_count": 234,
     "metadata": {},
     "output_type": "execute_result"
    },
    {
     "data": {
      "image/png": "[encoded data removed]",
      "text/plain": [
       "<Figure size 600x400 with 1 Axes>"
      ]
     },
     "metadata": {},
     "output_type": "display_data"
    }
   ],
   "source": [
    "#Visualizing Coffee House Coupon Acceptance Rate by Edu lvls\n",
    "plt.figure(figsize=(6, 4))\n",
    "sns.barplot(x='acceptance_rate', y='education', data=df_acceptance_by_edlvl)\n",
    "plt.title('Coffee House Coupon Acceptance Rate by education level')\n",
    "plt.ylabel('Education level')\n",
    "plt.xlabel('Acceptance Rate')"
   ]
  },
  {
   "cell_type": "markdown",
   "metadata": {},
   "source": [
    "Analysis of acceptance rates of coffee house coupon based on income levels"
   ]
  },
  {
   "cell_type": "code",
   "execution_count": 235,
   "metadata": {},
   "outputs": [
    {
     "name": "stdout",
     "output_type": "stream",
     "text": [
      "Acceptance rates by income levels and counts: income\n",
      "$100000 or More     0.494382\n",
      "$12500 - $24999     0.540404\n",
      "$25000 - $37499     0.473438\n",
      "$37500 - $49999     0.542373\n",
      "$50000 - $62499     0.503650\n",
      "$62500 - $74999     0.436364\n",
      "$75000 - $87499     0.296610\n",
      "$87500 - $99999     0.557196\n",
      "Less than $12500    0.551948\n",
      "Name: Y, dtype: float64\n",
      "Total counts income\n",
      "$100000 or More     534\n",
      "$12500 - $24999     594\n",
      "$25000 - $37499     640\n",
      "$37500 - $49999     590\n",
      "$50000 - $62499     548\n",
      "$62500 - $74999     275\n",
      "$75000 - $87499     236\n",
      "$87500 - $99999     271\n",
      "Less than $12500    308\n",
      "Name: Y, dtype: int64\n"
     ]
    }
   ],
   "source": [
    "#analyzing acceptance rates for income levels\n",
    "acceptance_by_income = df_coffee.groupby('income')['Y'].mean()\n",
    "#understanding numbers per group\n",
    "acceptance_by_income_counts = df_coffee.groupby('income')['Y'].count()\n",
    "\n",
    "#print results\n",
    "print('Acceptance rates by income levels and counts:',acceptance_by_income)\n",
    "print('Total counts',acceptance_by_income_counts)"
   ]
  },
  {
   "cell_type": "code",
   "execution_count": 236,
   "metadata": {},
   "outputs": [
    {
     "data": {
      "text/html": [
       "<div>\n",
       "<style scoped>\n",
       "    .dataframe tbody tr th:only-of-type {\n",
       "        vertical-align: middle;\n",
       "    }\n",
       "\n",
       "    .dataframe tbody tr th {\n",
       "        vertical-align: top;\n",
       "    }\n",
       "\n",
       "    .dataframe thead th {\n",
       "        text-align: right;\n",
       "    }\n",
       "</style>\n",
       "<table border=\"1\" class=\"dataframe\">\n",
       "  <thead>\n",
       "    <tr style=\"text-align: right;\">\n",
       "      <th></th>\n",
       "      <th>income</th>\n",
       "      <th>acceptance_rate</th>\n",
       "    </tr>\n",
       "  </thead>\n",
       "  <tbody>\n",
       "    <tr>\n",
       "      <th>0</th>\n",
       "      <td>$100000 or More</td>\n",
       "      <td>0.494382</td>\n",
       "    </tr>\n",
       "    <tr>\n",
       "      <th>1</th>\n",
       "      <td>$12500 - $24999</td>\n",
       "      <td>0.540404</td>\n",
       "    </tr>\n",
       "    <tr>\n",
       "      <th>2</th>\n",
       "      <td>$25000 - $37499</td>\n",
       "      <td>0.473438</td>\n",
       "    </tr>\n",
       "    <tr>\n",
       "      <th>3</th>\n",
       "      <td>$37500 - $49999</td>\n",
       "      <td>0.542373</td>\n",
       "    </tr>\n",
       "    <tr>\n",
       "      <th>4</th>\n",
       "      <td>$50000 - $62499</td>\n",
       "      <td>0.503650</td>\n",
       "    </tr>\n",
       "    <tr>\n",
       "      <th>5</th>\n",
       "      <td>$62500 - $74999</td>\n",
       "      <td>0.436364</td>\n",
       "    </tr>\n",
       "    <tr>\n",
       "      <th>6</th>\n",
       "      <td>$75000 - $87499</td>\n",
       "      <td>0.296610</td>\n",
       "    </tr>\n",
       "    <tr>\n",
       "      <th>7</th>\n",
       "      <td>$87500 - $99999</td>\n",
       "      <td>0.557196</td>\n",
       "    </tr>\n",
       "    <tr>\n",
       "      <th>8</th>\n",
       "      <td>Less than $12500</td>\n",
       "      <td>0.551948</td>\n",
       "    </tr>\n",
       "  </tbody>\n",
       "</table>\n",
       "</div>"
      ],
      "text/plain": [
       "             income  acceptance_rate\n",
       "0   $100000 or More         0.494382\n",
       "1   $12500 - $24999         0.540404\n",
       "2   $25000 - $37499         0.473438\n",
       "3   $37500 - $49999         0.542373\n",
       "4   $50000 - $62499         0.503650\n",
       "5   $62500 - $74999         0.436364\n",
       "6   $75000 - $87499         0.296610\n",
       "7   $87500 - $99999         0.557196\n",
       "8  Less than $12500         0.551948"
      ]
     },
     "execution_count": 236,
     "metadata": {},
     "output_type": "execute_result"
    }
   ],
   "source": [
    "#create a dataframe for acceptance rates by education\n",
    "df_acceptance_by_income = pd.DataFrame(acceptance_by_income.reset_index())\n",
    "df_acceptance_by_income.columns = ['income', 'acceptance_rate']\n",
    "\n",
    "#get counts for each passanger type and create a dataframe for the data\n",
    "df_acceptance_by_income_counts = pd.DataFrame(acceptance_by_income_counts.reset_index())\n",
    "df_acceptance_by_income_counts.columns = ['income', 'counts']\n",
    "\n",
    "#examining the data\n",
    "df_acceptance_by_income\n",
    "#df_acceptance_by_income_counts.head()"
   ]
  },
  {
   "cell_type": "code",
   "execution_count": 237,
   "metadata": {},
   "outputs": [],
   "source": [
    "#Merge the two dataframes using left join\n",
    "df_acceptance_by_income = pd.merge(\n",
    "    df_acceptance_by_income,\n",
    "    df_acceptance_by_income_counts,\n",
    "    on='income',\n",
    "    how='left'\n",
    ")"
   ]
  },
  {
   "cell_type": "code",
   "execution_count": 238,
   "metadata": {},
   "outputs": [
    {
     "data": {
      "text/html": [
       "<div>\n",
       "<style scoped>\n",
       "    .dataframe tbody tr th:only-of-type {\n",
       "        vertical-align: middle;\n",
       "    }\n",
       "\n",
       "    .dataframe tbody tr th {\n",
       "        vertical-align: top;\n",
       "    }\n",
       "\n",
       "    .dataframe thead th {\n",
       "        text-align: right;\n",
       "    }\n",
       "</style>\n",
       "<table border=\"1\" class=\"dataframe\">\n",
       "  <thead>\n",
       "    <tr style=\"text-align: right;\">\n",
       "      <th></th>\n",
       "      <th>income</th>\n",
       "      <th>acceptance_rate</th>\n",
       "      <th>counts</th>\n",
       "    </tr>\n",
       "  </thead>\n",
       "  <tbody>\n",
       "    <tr>\n",
       "      <th>0</th>\n",
       "      <td>$100000 or More</td>\n",
       "      <td>0.494382</td>\n",
       "      <td>534</td>\n",
       "    </tr>\n",
       "    <tr>\n",
       "      <th>1</th>\n",
       "      <td>$12500 - $24999</td>\n",
       "      <td>0.540404</td>\n",
       "      <td>594</td>\n",
       "    </tr>\n",
       "    <tr>\n",
       "      <th>2</th>\n",
       "      <td>$25000 - $37499</td>\n",
       "      <td>0.473438</td>\n",
       "      <td>640</td>\n",
       "    </tr>\n",
       "    <tr>\n",
       "      <th>3</th>\n",
       "      <td>$37500 - $49999</td>\n",
       "      <td>0.542373</td>\n",
       "      <td>590</td>\n",
       "    </tr>\n",
       "    <tr>\n",
       "      <th>4</th>\n",
       "      <td>$50000 - $62499</td>\n",
       "      <td>0.503650</td>\n",
       "      <td>548</td>\n",
       "    </tr>\n",
       "    <tr>\n",
       "      <th>5</th>\n",
       "      <td>$62500 - $74999</td>\n",
       "      <td>0.436364</td>\n",
       "      <td>275</td>\n",
       "    </tr>\n",
       "    <tr>\n",
       "      <th>6</th>\n",
       "      <td>$75000 - $87499</td>\n",
       "      <td>0.296610</td>\n",
       "      <td>236</td>\n",
       "    </tr>\n",
       "    <tr>\n",
       "      <th>7</th>\n",
       "      <td>$87500 - $99999</td>\n",
       "      <td>0.557196</td>\n",
       "      <td>271</td>\n",
       "    </tr>\n",
       "    <tr>\n",
       "      <th>8</th>\n",
       "      <td>Less than $12500</td>\n",
       "      <td>0.551948</td>\n",
       "      <td>308</td>\n",
       "    </tr>\n",
       "  </tbody>\n",
       "</table>\n",
       "</div>"
      ],
      "text/plain": [
       "             income  acceptance_rate  counts\n",
       "0   $100000 or More         0.494382     534\n",
       "1   $12500 - $24999         0.540404     594\n",
       "2   $25000 - $37499         0.473438     640\n",
       "3   $37500 - $49999         0.542373     590\n",
       "4   $50000 - $62499         0.503650     548\n",
       "5   $62500 - $74999         0.436364     275\n",
       "6   $75000 - $87499         0.296610     236\n",
       "7   $87500 - $99999         0.557196     271\n",
       "8  Less than $12500         0.551948     308"
      ]
     },
     "execution_count": 238,
     "metadata": {},
     "output_type": "execute_result"
    }
   ],
   "source": [
    "#Examine merged dataframe\n",
    "df_acceptance_by_income"
   ]
  },
  {
   "cell_type": "code",
   "execution_count": 239,
   "metadata": {},
   "outputs": [
    {
     "data": {
      "text/plain": [
       "Text(0.5, 0, 'Acceptance Rate')"
      ]
     },
     "execution_count": 239,
     "metadata": {},
     "output_type": "execute_result"
    },
    {
     "data": {
      "image/png": "[encoded data removed]",
      "text/plain": [
       "<Figure size 600x400 with 1 Axes>"
      ]
     },
     "metadata": {},
     "output_type": "display_data"
    }
   ],
   "source": [
    "#Visualizing Coffee House Coupon Acceptance Rate by Edu lvls\n",
    "plt.figure(figsize=(6, 4))\n",
    "sns.barplot(x='acceptance_rate', y='income', data=df_acceptance_by_income)\n",
    "plt.title('Coffee House Coupon Acceptance Rate by income level')\n",
    "plt.ylabel('Income level')\n",
    "plt.xlabel('Acceptance Rate')"
   ]
  },
  {
   "cell_type": "code",
   "execution_count": null,
   "metadata": {},
   "outputs": [],
   "source": []
  },
  {
   "cell_type": "markdown",
   "metadata": {},
   "source": [
    "Comparing acceptance rates between the three columns to analyze if travel time to coupon location is a factor - toCoupon_GEQ5min, toCoupon_GEQ15min, toCoupon_GEQ25min"
   ]
  },
  {
   "cell_type": "code",
   "execution_count": 241,
   "metadata": {},
   "outputs": [
    {
     "name": "stdout",
     "output_type": "stream",
     "text": [
      "0.5 0.45 0.35\n"
     ]
    },
    {
     "data": {
      "text/plain": [
       "Text(0, 0.5, 'Acceptance Rate')"
      ]
     },
     "execution_count": 241,
     "metadata": {},
     "output_type": "execute_result"
    },
    {
     "data": {
      "image/png": "[encoded data removed]",
      "text/plain": [
       "<Figure size 600x400 with 1 Axes>"
      ]
     },
     "metadata": {},
     "output_type": "display_data"
    }
   ],
   "source": [
    "#calculating proportion of coffee house coupons accepted when driver is GEQ 5 min and rounding to 2 decimals\n",
    "acceptance_coffee_5min = round(df_coffee[df_coffee['toCoupon_GEQ5min']==1]['Y'].mean(),2)\n",
    "acceptance_coffee_15min = round(df_coffee[df_coffee['toCoupon_GEQ15min']==1]['Y'].mean(),2)\n",
    "acceptance_coffee_25min = round(df_coffee[df_coffee['toCoupon_GEQ25min']==1]['Y'].mean(),2)\n",
    "\n",
    "print(acceptance_coffee_5min, acceptance_coffee_15min, acceptance_coffee_25min)\n",
    "\n",
    "# Create DataFrame for plotting\n",
    "trvltime_data = pd.DataFrame({\n",
    "    'travel_time': ['≥5 min', '≥15 min', '≥25 min'],\n",
    "    'acceptance_rate': [acceptance_coffee_5min, acceptance_coffee_15min, acceptance_coffee_25min]    \n",
    "})\n",
    "\n",
    "# Plotting the data\n",
    "plt.figure(figsize=(6, 4))\n",
    "sns.barplot(x='travel_time', y='acceptance_rate', data=trvltime_data, color='green')\n",
    "plt.title('Coffee House Coupon Acceptance Rate by Travel Time')\n",
    "plt.xlabel('Travel Time to Coupon Location')\n",
    "plt.ylabel('Acceptance Rate')\n",
    "\n"
   ]
  },
  {
   "cell_type": "markdown",
   "metadata": {},
   "source": [
    "Observations:\n",
    "Total acceptance rates are 50% for coffee coupons.\n",
    "Acceptance rates are highest (64%) at 10 am.\n",
    "Similar acceptance rates between men and women (51% vs 49%)\n",
    "Acceptance rates for same direction were 53% vs 49% if venue is in the opposite direction.\n",
    "High acceptance rate of 60% when passanger is a friend/s and when weather is sunny and passanger is a friend(s).\n",
    "Acceptance rates seem to go down after 50 years of age.\n",
    "Younger people below 21 years seem to have the highest acceptance rates (close to 70%) but the number of people under 21 are lower compared to other age groups.\n",
    "As expected, the acceptance rates were slightly higher - 54% in unemployed populations compared to employed people - 49%.\n",
    "Education levels did not much of a difference with respect to acceptance rates. The 'some high school' group showed a higher rate but upon investigation, it was noted that the subset has significantly low data points.\n",
    "The income level between 75000 and 87499 showed the lowest acceptance rate of 30% compared to all other income levels.\n",
    "Acceptance rates decreased as travel time increased.\n",
    "\n",
    "Hypothesis:\n",
    "Based on the observations, I hypothesize that younger individuals (below 21) and unemployed populations exhibit higher coffee house coupon acceptance rates, particularly in social settings like sunny weather with friends or at peak morning times (e.g., 10 AM), due to greater social motivation and time availability. People tended to accept the coupon if they are closer to the coupon location, there seems to be an inverse relation between the travel time and acceptance rate as expected. The low acceptance rate (30%) for the $75,000–$87,499 income group may reflect reduced perceived value of coupons among mid-income professionals with less flexible schedules or preferences for alternative venues. Additionally, while gender and education level have minimal impact, the higher rate for the 'some high school' group is likely unreliable due to small sample sizes. Acceptance rates also appear influenced by convenience, with same-direction venues slightly preferred, and decline after age 50, possibly due to differing lifestyle priorities. Overall acceptance rates are 50% for the coffee coupons."
   ]
  },
  {
   "cell_type": "code",
   "execution_count": null,
   "metadata": {},
   "outputs": [],
   "source": []
  }
 ],
 "metadata": {
  "colab": {
   "provenance": []
  },
  "kernelspec": {
   "display_name": "Python 3 (ipykernel)",
   "language": "python",
   "name": "python3"
  },
  "language_info": {
   "codemirror_mode": {
    "name": "ipython",
    "version": 3
   },
   "file_extension": ".py",
   "mimetype": "text/x-python",
   "name": "python",
   "nbconvert_exporter": "python",
   "pygments_lexer": "ipython3",
   "version": "3.12.7"
  }
 },
 "nbformat": 4,
 "nbformat_minor": 4
}
